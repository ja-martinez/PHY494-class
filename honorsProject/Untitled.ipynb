{
 "cells": [
  {
   "cell_type": "code",
   "execution_count": 70,
   "metadata": {
    "collapsed": false
   },
   "outputs": [],
   "source": [
    "import numpy as np\n",
    "import matplotlib.pyplot as plt\n",
    "%matplotlib inline\n",
    "\n",
    "def rk4DobPend(m1, m2, L1, L2, phi10, phi20, w10, w20, h, t_max, g=9.81):\n",
    "    \"\"\"\n",
    "    m1, L1, phi10, w10 correspond to the mass length, initial angle, and initial angular velocity of the top pendulum\n",
    "    m2, L2, phi20, w20 correspond to the same, but for the bottom pendulum\n",
    "    h corresponds to the time step\n",
    "    t_max corresponds to the greatest amout of time needed to calculate\n",
    "    \"\"\"\n",
    "    \n",
    "    def f1(t, phi1, phi2, w1, w2):\n",
    "        return w1\n",
    "    \n",
    "    def g1(t, phi1, phi2, w1, w2):\n",
    "        return -(m2*g)/(m1*L1)*phi2 - (m1+m2)/(m1*L1)*g*phi1\n",
    "        \n",
    "        #return (-g*(2*m1+m2)*np.sin(phi1)-m2*g*np.sin(phi1-2*phi2)-2*np.sin(phi1-phi2)*m2*((w2**2)*L2+(w1**2)*L1*np.cos(phi1-phi2))/\n",
    "               # (L1*(2*m1+m2-m2*np.cos(2*phi1-2*phi2))))\n",
    "    \n",
    "    def f2(t, phi1, phi2, w1, w2):\n",
    "        return w2\n",
    "    \n",
    "    def g2(t, phi1, phi2, w1, w2):\n",
    "        return -(m2/m1+1)*g/L2*phi2 + (m1+m2)/(m1*L2)*g*phi1\n",
    "        \n",
    "        #return (2*np.sin(phi1-phi2)*((w1**2)*L1*(m1+m2)+g*(m1+m2)*np.cos(phi1)+(w2**2)*L2*m2*np.cos(phi1-phi2))) \\\n",
    "          #  /(L2*(2*m1+m2-m2-m2*np.cos(2*phi1-2*phi2)))\n",
    "\n",
    "    \n",
    "    Nsteps = t_max/h\n",
    "    t_range = h*np.arange(Nsteps, dtype=np.float64)\n",
    "    phi1 = np.zeros_like(t_range)\n",
    "    phi2 = np.zeros_like(t_range)\n",
    "    w1 = np.zeros_like(t_range)\n",
    "    w2 = np.zeros_like(t_range)\n",
    "    y = np.array([phi10, phi20, w10, w20], dtype=np.float64)\n",
    "    \n",
    "    A0 = np.zeros(4)\n",
    "    A1 = np.zeros(4)\n",
    "    A2 = np.zeros(4)\n",
    "    A3 = np.zeros(4)\n",
    "    \n",
    "    for i, t in enumerate(t_range):\n",
    "        phi1[i] = y[0]\n",
    "        phi2[i] = y[1]\n",
    "        w1[i] = y[2]\n",
    "        w2[i] = y[3]\n",
    "        \n",
    "        k0 = h*f1(t, y[0], y[1], y[2], y[3])\n",
    "        d0 = h*f2(t, y[0], y[1], y[2], y[3])\n",
    "        l0 = h*g1(t, y[0], y[1], y[2], y[3])\n",
    "        q0 = h*g2(t, y[0], y[1], y[2], y[3])\n",
    "        A0[:] = k0, d0, l0, q0\n",
    "        \n",
    "        k1 = h*f1(t + 0.5*h, y[0] + 0.5*k0, y[1] + 0.5*d0, y[2] + 0.5*l0, y[3] + 0.5*q0)\n",
    "        d1 = h*f2(t + 0.5*h, y[0] + 0.5*k0, y[1] + 0.5*d0, y[2] + 0.5*l0, y[3] + 0.5*q0)\n",
    "        l1 = h*g1(t + 0.5*h, y[0] + 0.5*k0, y[1] + 0.5*d0, y[2] + 0.5*l0, y[3] + 0.5*q0)\n",
    "        q1 = h*g2(t + 0.5*h, y[0] + 0.5*k0, y[1] + 0.5*d0, y[2] + 0.5*l0, y[3] + 0.5*q0)\n",
    "        A1[:] = k1, d1, l1, q1\n",
    "        \n",
    "        k2 = h*f1(t + 0.5*h, y[0] + 0.5*k1, y[1] + 0.5*d1, y[2] + 0.5*l1, y[3] + 0.5*q1)\n",
    "        d2 = h*f2(t + 0.5*h, y[0] + 0.5*k1, y[1] + 0.5*d1, y[2] + 0.5*l1, y[3] + 0.5*q1)\n",
    "        l2 = h*g1(t + 0.5*h, y[0] + 0.5*k1, y[1] + 0.5*d1, y[2] + 0.5*l1, y[3] + 0.5*q1)\n",
    "        q2 = h*g2(t + 0.5*h, y[0] + 0.5*k1, y[1] + 0.5*d1, y[2] + 0.5*l1, y[3] + 0.5*q1)\n",
    "        A2[:] = k2, d2, l2, q2\n",
    "        \n",
    "        k3 = h*f1(t + h, y[0] + k2, y[1] + d2, y[2] + l2, y[3] + q2)\n",
    "        d3 = h*f2(t + h, y[0] + k2, y[1] + d2, y[2] + l2, y[3] + q2)\n",
    "        l3 = h*g1(t + h, y[0] + k2, y[1] + d2, y[2] + l2, y[3] + q2)\n",
    "        q3 = h*g2(t + h, y[0] + k2, y[1] + d2, y[2] + l2, y[3] + q2)\n",
    "        A3[:] = k3, d3, l3, q3\n",
    "        \n",
    "        y[:] = y + (A0 + 2*A1 + 2*A2 + A3)/6\n",
    "    return t_range, phi1, phi2, w1, w2, L1, L2, m1, m2, g"
   ]
  },
  {
   "cell_type": "code",
   "execution_count": 71,
   "metadata": {
    "collapsed": false
   },
   "outputs": [],
   "source": [
    "data = rk4DobPend(0.1, 0.1, 0.1, 0.1, 1, 0, 0, 0, 0.0001, 3)\n",
    "t_range = data[0]\n",
    "phi1 = data[1]\n",
    "phi2 = data[2]\n",
    "w1 = data[3]\n",
    "w2 = data[4]\n",
    "L1 = data[5]\n",
    "L2 = data[6]\n",
    "m1 = data[7]\n",
    "m2 = data[8]\n",
    "g = data[9]"
   ]
  },
  {
   "cell_type": "code",
   "execution_count": 73,
   "metadata": {
    "collapsed": false
   },
   "outputs": [
    {
     "data": {
      "text/plain": [
       "[<matplotlib.lines.Line2D at 0x1c782337c18>]"
      ]
     },
     "execution_count": 73,
     "metadata": {},
     "output_type": "execute_result"
    },
    {
     "data": {
      "image/png": "[encoded data removed]",
      "text/plain": [
       "<matplotlib.figure.Figure at 0x1c7822f8358>"
      ]
     },
     "metadata": {},
     "output_type": "display_data"
    }
   ],
   "source": [
    "plt.plot(t_range, phi1)"
   ]
  },
  {
   "cell_type": "code",
   "execution_count": 59,
   "metadata": {
    "collapsed": false
   },
   "outputs": [
    {
     "data": {
      "text/plain": [
       "array([ 0.,  0.,  0., ...,  0.,  0.,  0.])"
      ]
     },
     "execution_count": 59,
     "metadata": {},
     "output_type": "execute_result"
    }
   ],
   "source": [
    "phi1"
   ]
  },
  {
   "cell_type": "code",
   "execution_count": null,
   "metadata": {
    "collapsed": true
   },
   "outputs": [],
   "source": []
  }
 ],
 "metadata": {
  "kernelspec": {
   "display_name": "Python 3",
   "language": "python",
   "name": "python3"
  },
  "language_info": {
   "codemirror_mode": {
    "name": "ipython",
    "version": 3
   },
   "file_extension": ".py",
   "mimetype": "text/x-python",
   "name": "python",
   "nbconvert_exporter": "python",
   "pygments_lexer": "ipython3",
   "version": "3.5.1"
  }
 },
 "nbformat": 4,
 "nbformat_minor": 0
}
