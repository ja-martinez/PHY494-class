{
 "cells": [
  {
   "cell_type": "code",
   "execution_count": 35,
   "metadata": {
    "collapsed": true
   },
   "outputs": [],
   "source": [
    "import numpy as np\n",
    "import matplotlib.pyplot as plt\n",
    "%matplotlib inline\n",
    "\n",
    "def EulerDobPend(m1, m2, L1, L2, phi10, phi20, w10, w20, h, t_max, g=9.81):\n",
    "    \"\"\"\n",
    "    m1, L1, phi10, w10 correspond to the mass length, initial angle, and initial angular velocity of the top pendulum\n",
    "    m2, L2, phi20, w20 correspond to the same, but for the bottom pendulum\n",
    "    h corresponds to the time step\n",
    "    t_max corresponds to the greatest amout of time needed to calculate\n",
    "    \"\"\"\n",
    "    \n",
    "    def f1(t, phi1, phi2, w1, w2):\n",
    "        return w1\n",
    "    \n",
    "    def g1(t, phi1, phi2, w1, w2):\n",
    "        return (m2*g)/(m1*L1)*phi2 - (m1+m2)/(m1*L1)*g*phi1\n",
    "    \n",
    "    def f2(t, phi1, phi2, w1, w2):\n",
    "        return w2\n",
    "    \n",
    "    def g2(t, phi1, phi2, w1, w2):\n",
    "        return -(m2/m1+1)*g/L2*phi2 + (m1+m2)/(m1*L2)*g*phi1\n",
    "    \n",
    "    Nsteps = t_max/h\n",
    "    t_range = h*np.arange(Nsteps)\n",
    "    phi1 = np.zeros_like(t_range)\n",
    "    phi2 = np.zeros_like(t_range)\n",
    "    w1 = np.zeros_like(t_range)\n",
    "    w2 = np.zeros_like(t_range)\n",
    "    y = np.array([phi10, phi20, w10, w20])\n",
    "    \n",
    "    f_array = np.zeros_like(y)\n",
    "    \n",
    "    \n",
    "    for i, t in enumerate(t_range):\n",
    "        phi1[i] = y[0]\n",
    "        phi2[i] = y[1]\n",
    "        w1[i] = y[2]\n",
    "        w2[i] = y[3]\n",
    "        \n",
    "        f_array[:] = f1(t, y[0], y[1], y[2], y[3]), f2(t, y[0], y[1], y[2], y[3]), g1(t, y[0], y[1], y[2], y[3]), g2(t, y[0], y[1], y[2], y[3])\n",
    "        \n",
    "        y = y + h*f_array\n",
    "    return t_range, phi1, phi2, w1, w2"
   ]
  },
  {
   "cell_type": "code",
   "execution_count": 38,
   "metadata": {
    "collapsed": false
   },
   "outputs": [],
   "source": [
    "data = EulerDobPend(0.1, 0.1, 0.5, 0.5, 0.5, 0, 0, 0, 0.001, 10)"
   ]
  },
  {
   "cell_type": "code",
   "execution_count": 39,
   "metadata": {
    "collapsed": false
   },
   "outputs": [
    {
     "data": {
      "text/plain": [
       "[<matplotlib.lines.Line2D at 0x247041750f0>]"
      ]
     },
     "execution_count": 39,
     "metadata": {},
     "output_type": "execute_result"
    },
    {
     "data": {
      "image/png": "[encoded data removed]",
      "text/plain": [
       "<matplotlib.figure.Figure at 0x24704120e80>"
      ]
     },
     "metadata": {},
     "output_type": "display_data"
    }
   ],
   "source": [
    "plt.plot(data[0], data[1])"
   ]
  },
  {
   "cell_type": "code",
   "execution_count": null,
   "metadata": {
    "collapsed": true
   },
   "outputs": [],
   "source": []
  }
 ],
 "metadata": {
  "kernelspec": {
   "display_name": "Python 3",
   "language": "python",
   "name": "python3"
  },
  "language_info": {
   "codemirror_mode": {
    "name": "ipython",
    "version": 3
   },
   "file_extension": ".py",
   "mimetype": "text/x-python",
   "name": "python",
   "nbconvert_exporter": "python",
   "pygments_lexer": "ipython3",
   "version": "3.5.1"
  }
 },
 "nbformat": 4,
 "nbformat_minor": 0
}
