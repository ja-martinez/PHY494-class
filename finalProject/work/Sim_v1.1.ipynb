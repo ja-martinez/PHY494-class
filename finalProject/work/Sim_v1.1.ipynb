{
 "cells": [
  {
   "cell_type": "code",
   "execution_count": 1,
   "metadata": {
    "collapsed": false
   },
   "outputs": [],
   "source": [
    "import numpy as np\n",
    "\n",
    "#tuple array of South, West, East and Midwest Regionals respectively, listed in #1 - 16 seed order\n",
    "R1teams = ((\"Kansas\", \"Villanova\", \"Miami\", \"California\", \"Maryland\", \"Arizona\", \"Iowa\", \"Colorado\", \"Connecticut\", \"Temple\", \"Wichita State\", \"South Dakota State\", \"Hawaii\", \"Buffalo\", \"UNC Asheville\", \"Austin Peay\"),\n",
    "            (\"Oregon\", \"Oklahoma\", \"Texan A&M\", \"Duke\", \"Baylor\", \"Texas\", \"Oregon State\", \"Saint Joseph's\", \"Cincinnatti\", \"VCU\", \"Northern Iowa\", \"Yale\", \"UNC Wilmington\", \"Green Bay\", \"Cal State Bakersfield\", \"Holy Cross\"),\n",
    "            (\"North Carolina\", \"Xavier\", \"West Virginia\", \"Kentucky\", \"Indiana\", \"Notre Dame\", \"Wisconsin\", \"USC\", \"Providence\", \"Pittsburgh\", \"Michigan\", \"Chattanooga\", \"Stony Brook\", \"Stephen F Austin\", \"Weber State\", \"Florida Gulf Coast\"), \n",
    "            (\"Virginia\", \"Michigan State\", \"Utah\", \"Iowa State\", \"Purdue\", \"Seton Hall\", \"Dayton\", \"Texas Tech\", \"Butler\", \"Syracuse\", \"Gonzaga\", \"Ankansas-Little Rock\", \"Iona\", \"Fresno State\", \"Middle Tennessee\", \"Hampton\"))\n",
    "\n",
    "#Random number generator for first round of games (8 games x 4 conferences)\n",
    "Rand1 = np.random.randint(100, size=(4, 8))\n",
    "\n",
    "# Round 1 simulation \n",
    "\n",
    "if Rand1[0][0]>49:\n",
    "    S1_1 = R1teams[0][0]\n",
    "else:\n",
    "    S1_1 = R1teams[0][1]\n",
    "\n",
    "if Rand1[0][1]>49:\n",
    "    S1_2 = R1teams[0][2]\n",
    "else:\n",
    "    S1_2 = R1teams[0][3]    \n",
    "\n",
    "if Rand1[0][2]>49:\n",
    "    S1_3 = R1teams[0][4]\n",
    "else:\n",
    "    S1_3 = R1teams[0][5]\n",
    "    \n",
    "if Rand1[0][3]>49:\n",
    "    S1_4 = R1teams[0][6]\n",
    "else:\n",
    "    S1_4 = R1teams[0][7]    \n",
    "\n",
    "if Rand1[0][4]>49:\n",
    "    S1_5 = R1teams[0][8]\n",
    "else:\n",
    "    S1_5 = R1teams[0][9]    \n",
    "\n",
    "if Rand1[0][5]>49:\n",
    "    S1_6 = R1teams[0][10]\n",
    "else:\n",
    "    S1_6 = R1teams[0][11]    \n",
    "\n",
    "if Rand1[0][6]>49:\n",
    "    S1_7 = R1teams[0][12]\n",
    "else:\n",
    "    S1_7 = R1teams[0][13]    \n",
    "\n",
    "if Rand1[0][7]>49:\n",
    "    S1_8 = R1teams[0][14]\n",
    "else:\n",
    "    S1_8 = R1teams[0][15]    \n",
    "\n",
    "\n",
    "    \n",
    "if Rand1[1][0]>49:\n",
    "    W1_1 = R1teams[1][0]\n",
    "else:\n",
    "    W1_1 = R1teams[1][1]\n",
    "\n",
    "if Rand1[1][1]>49:\n",
    "    W1_2 = R1teams[1][2]\n",
    "else:\n",
    "    W1_2 = R1teams[1][3]    \n",
    "\n",
    "if Rand1[1][2]>49:\n",
    "    W1_3 = R1teams[1][4]\n",
    "else:\n",
    "    W1_3 = R1teams[1][5]\n",
    "    \n",
    "if Rand1[1][3]>49:\n",
    "    W1_4 = R1teams[1][6]\n",
    "else:\n",
    "    W1_4 = R1teams[1][7]    \n",
    "\n",
    "if Rand1[1][4]>49:\n",
    "    W1_5 = R1teams[1][8]\n",
    "else:\n",
    "    W1_5 = R1teams[1][9]    \n",
    "\n",
    "if Rand1[1][5]>49:\n",
    "    W1_6 = R1teams[1][10]\n",
    "else:\n",
    "    W1_6 = R1teams[1][11]    \n",
    "\n",
    "if Rand1[1][6]>49:\n",
    "    W1_7 = R1teams[1][12]\n",
    "else:\n",
    "    W1_7 = R1teams[1][13]    \n",
    "\n",
    "if Rand1[1][7]>49:\n",
    "    W1_8 = R1teams[1][14]\n",
    "else:\n",
    "    W1_8 = R1teams[1][15]    \n",
    "\n",
    "\n",
    "    \n",
    "if Rand1[2][0]>49:\n",
    "    E1_1 = R1teams[2][0]\n",
    "else:\n",
    "    E1_1 = R1teams[2][1]\n",
    "\n",
    "if Rand1[2][1]>49:\n",
    "    E1_2 = R1teams[2][2]\n",
    "else:\n",
    "    E1_2 = R1teams[2][3]    \n",
    "\n",
    "if Rand1[2][2]>49:\n",
    "    E1_3 = R1teams[2][4]\n",
    "else:\n",
    "    E1_3 = R1teams[2][5]\n",
    "    \n",
    "if Rand1[2][3]>49:\n",
    "    E1_4 = R1teams[2][6]\n",
    "else:\n",
    "    E1_4 = R1teams[2][7]    \n",
    "\n",
    "if Rand1[2][4]>49:\n",
    "    E1_5 = R1teams[2][8]\n",
    "else:\n",
    "    E1_5 = R1teams[2][9]    \n",
    "\n",
    "if Rand1[2][5]>49:\n",
    "    E1_6 = R1teams[2][10]\n",
    "else:\n",
    "    E1_6 = R1teams[2][11]    \n",
    "\n",
    "if Rand1[2][6]>49:\n",
    "    E1_7 = R1teams[2][12]\n",
    "else:\n",
    "    E1_7 = R1teams[2][13]    \n",
    "\n",
    "if Rand1[2][7]>49:\n",
    "    E1_8 = R1teams[2][14]\n",
    "else:\n",
    "    E1_8 = R1teams[2][15]    \n",
    "\n",
    "    \n",
    "\n",
    "if Rand1[3][0]>49:\n",
    "    M1_1 = R1teams[3][0]\n",
    "else:\n",
    "    M1_1 = R1teams[3][1]\n",
    "\n",
    "if Rand1[3][1]>49:\n",
    "    M1_2 = R1teams[3][2]\n",
    "else:\n",
    "    M1_2 = R1teams[3][3]    \n",
    "\n",
    "if Rand1[3][2]>49:\n",
    "    M1_3 = R1teams[3][4]\n",
    "else:\n",
    "    M1_3 = R1teams[3][5]\n",
    "    \n",
    "if Rand1[3][3]>49:\n",
    "    M1_4 = R1teams[3][6]\n",
    "else:\n",
    "    M1_4 = R1teams[3][7]    \n",
    "\n",
    "if Rand1[3][4]>49:\n",
    "    M1_5 = R1teams[3][8]\n",
    "else:\n",
    "    M1_5 = R1teams[3][9]    \n",
    "\n",
    "if Rand1[3][5]>49:\n",
    "    M1_6 = R1teams[3][10]\n",
    "else:\n",
    "    M1_6 = R1teams[3][11]    \n",
    "\n",
    "if Rand1[3][6]>49:\n",
    "    M1_7 = R1teams[3][12]\n",
    "else:\n",
    "    M1_7 = R1teams[3][13]    \n",
    "\n",
    "if Rand1[3][7]>49:\n",
    "    M1_8 = R1teams[3][14]\n",
    "else:\n",
    "    M1_8 = R1teams[3][15]    \n",
    "    \n",
    "    \n",
    "# Winners of Round 1\n",
    "R2teams1=[[S1_1, S1_2, S1_3, S1_4, S1_5, S1_6, S1_7, S1_8],\n",
    "          [W1_1, W1_2, W1_3, W1_4, W1_5, W1_6, W1_7, W1_8],\n",
    "          [E1_1, E1_2, E1_3, E1_4, E1_5, E1_6, E1_7, E1_8],\n",
    "          [M1_1, M1_2, M1_3, M1_4, M1_5, M1_6, M1_7, M1_8]]    \n",
    "\n",
    "Rand2 = np.random.randint(100, size=(4, 4))  #Random generator for second round (4 games x 4 conferences)\n",
    "\n",
    "# Round 2 simulation \n",
    "\n",
    "if Rand2[0][0]>49:\n",
    "    S2_1 = R2teams1[0][0]\n",
    "else:\n",
    "    S2_1 = R2teams1[0][1]\n",
    "\n",
    "if Rand2[0][1]>49:\n",
    "    S2_2 = R2teams1[0][2]\n",
    "else:\n",
    "    S2_2 = R2teams1[0][3]    \n",
    "\n",
    "if Rand2[0][2]>49:\n",
    "    S2_3 = R2teams1[0][4]\n",
    "else:\n",
    "    S2_3 = R2teams1[0][5]\n",
    "    \n",
    "if Rand2[0][3]>49:\n",
    "    S2_4 = R2teams1[0][6]\n",
    "else:\n",
    "    S2_4 = R2teams1[0][7]    \n",
    "\n",
    "\n",
    "    \n",
    "if Rand2[1][0]>49:\n",
    "    W2_1 = R2teams1[1][0]\n",
    "else:\n",
    "    W2_1 = R2teams1[1][1]\n",
    "\n",
    "if Rand2[1][1]>49:\n",
    "    W2_2 = R2teams1[1][2]\n",
    "else:\n",
    "    W2_2 = R2teams1[1][3]    \n",
    "\n",
    "if Rand2[1][2]>49:\n",
    "    W2_3 = R2teams1[1][4]\n",
    "else:\n",
    "    W2_3 = R2teams1[1][5]\n",
    "    \n",
    "if Rand2[1][3]>49:\n",
    "    W2_4 = R2teams1[1][6]\n",
    "else:\n",
    "    W2_4 = R2teams1[1][7]    \n",
    "\n",
    "\n",
    "    \n",
    "if Rand2[2][0]>49:\n",
    "    E2_1 = R2teams1[2][0]\n",
    "else:\n",
    "    E2_1 = R2teams1[2][1]\n",
    "\n",
    "if Rand2[2][1]>49:\n",
    "    E2_2 = R2teams1[2][2]\n",
    "else:\n",
    "    E2_2 = R2teams1[2][3]    \n",
    "\n",
    "if Rand2[2][2]>49:\n",
    "    E2_3 = R2teams1[2][4]\n",
    "else:\n",
    "    E2_3 = R2teams1[2][5]\n",
    "    \n",
    "if Rand2[2][3]>49:\n",
    "    E2_4 = R2teams1[2][6]\n",
    "else:\n",
    "    E2_4 = R2teams1[2][7]    \n",
    "\n",
    "    \n",
    "\n",
    "if Rand2[3][0]>49:\n",
    "    M2_1 = R2teams1[3][0]\n",
    "else:\n",
    "    M2_1 = R2teams1[3][1]\n",
    "\n",
    "if Rand2[3][1]>49:\n",
    "    M2_2 = R2teams1[3][2]\n",
    "else:\n",
    "    M2_2 = R2teams1[3][3]    \n",
    "\n",
    "if Rand2[3][2]>49:\n",
    "    M2_3 = R2teams1[3][4]\n",
    "else:\n",
    "    M2_3 = R2teams1[3][5]\n",
    "    \n",
    "if Rand2[3][3]>49:\n",
    "    M2_4 = R2teams1[3][6]\n",
    "else:\n",
    "    M2_4 = R2teams1[3][7]    \n",
    "\n",
    "\n",
    "# Winners of Round 2\n",
    "R3teams=[[S2_1, S2_2, S2_3, S2_4],\n",
    "          [W2_1, W2_2, W2_3, W2_4],\n",
    "          [E2_1, E2_2, E2_3, E2_4],\n",
    "          [M2_1, M2_2, M2_3, M2_4]]\n",
    "\n",
    "Rand3 = np.random.randint(100, size=(4, 2))\n",
    "\n",
    "# Round 3 (Sweet 16) simulation \n",
    "\n",
    "if Rand3[0][0]>49:\n",
    "    S3_1 = R3teams[0][0]\n",
    "else:\n",
    "    S3_1 = R3teams[0][1]\n",
    "\n",
    "if Rand3[0][1]>49:\n",
    "    S3_2 = R3teams[0][2]\n",
    "else:\n",
    "    S3_2 = R3teams[0][3]    \n",
    " \n",
    "\n",
    "    \n",
    "if Rand3[1][0]>49:\n",
    "    W3_1 = R3teams[1][0]\n",
    "else:\n",
    "    W3_1 = R3teams[1][1]\n",
    "\n",
    "if Rand3[1][1]>49:\n",
    "    W3_2 = R3teams[1][2]\n",
    "else:\n",
    "    W3_2 = R3teams[1][3]    \n",
    "   \n",
    "\n",
    "    \n",
    "if Rand3[2][0]>49:\n",
    "    E3_1 = R3teams[2][0]\n",
    "else:\n",
    "    E3_1 = R3teams[2][1]\n",
    "\n",
    "if Rand3[2][1]>49:\n",
    "    E3_2 = R3teams[2][2]\n",
    "else:\n",
    "    E3_2 = R3teams[2][3]    \n",
    "\n",
    "    \n",
    "\n",
    "if Rand3[3][0]>49:\n",
    "    M3_1 = R3teams[3][0]\n",
    "else:\n",
    "    M3_1 = R3teams[3][1]\n",
    "\n",
    "if Rand3[3][1]>49:\n",
    "    M3_2 = R3teams[3][2]\n",
    "else:\n",
    "    M3_2 = R3teams[3][3]    \n",
    "\n",
    "    \n",
    "    \n",
    "R4teams=[[S3_1, S3_2],\n",
    "          [W3_1, W3_2],\n",
    "          [E3_1, E3_2],\n",
    "          [M3_1, M3_2]]    \n",
    "\n",
    "Rand4 = np.random.randint(100, size=(4, 1))\n",
    "\n",
    "\n",
    "# Round 4 (Elite 8) simulation \n",
    "\n",
    "if Rand4[0][0]>49:\n",
    "    S4 = R4teams[0][0]\n",
    "else:\n",
    "    S4 = R4teams[0][1]\n",
    "\n",
    "if Rand4[1][0]>49:\n",
    "    W4 = R4teams[1][0]\n",
    "else:\n",
    "    W4 = R4teams[1][1]\n",
    "    \n",
    "if Rand4[2][0]>49:\n",
    "    E4 = R4teams[2][0]\n",
    "else:\n",
    "    E4 = R4teams[2][1]\n",
    "    \n",
    "if Rand4[3][0]>49:\n",
    "    M4 = R4teams[3][0]\n",
    "else:\n",
    "    M4 = R4teams[3][1]\n",
    "\n",
    "    \n",
    "    \n",
    "R5teams=[[S4],\n",
    "          [W4],\n",
    "          [E4],\n",
    "          [M4]]\n",
    "\n",
    "Rand5 = np.random.randint(100, size=(2, 1))\n",
    "\n",
    "# Round 5 (Final 4) simulation \n",
    "\n",
    "if Rand5[0][0]>49:\n",
    "    F1 = R5teams[0][0]\n",
    "else:\n",
    "    F1 = R5teams[1][0]\n",
    "\n",
    "if Rand5[1][0]>49:\n",
    "    F2 = R5teams[2][0]\n",
    "else:\n",
    "    F2 = R5teams[3][0]\n",
    "\n",
    "\n",
    "R6teams=[F1, F2]\n",
    "\n",
    "Rand6 = np.random.randint(100, size=(1, 1))\n",
    "\n",
    "# Round 5 (Championship) simulation \n",
    "\n",
    "if Rand6[0][0]>49:\n",
    "    Winner = R6teams[0]\n",
    "else:\n",
    "    Winner = R6teams[1]\n",
    "\n",
    "\n",
    "Champion = Winner\n",
    "\n",
    "\n",
    "    \n"
   ]
  },
  {
   "cell_type": "code",
   "execution_count": 2,
   "metadata": {
    "collapsed": false
   },
   "outputs": [
    {
     "data": {
      "text/plain": [
       "array([[53, 87, 35,  3,  6, 17, 21, 24],\n",
       "       [18, 41, 54, 30, 70, 47, 40, 17],\n",
       "       [49,  6, 50, 33, 75, 44, 21, 37],\n",
       "       [98, 62, 81, 47, 79, 95, 83, 78]])"
      ]
     },
     "execution_count": 2,
     "metadata": {},
     "output_type": "execute_result"
    }
   ],
   "source": [
    "Rand1      # Checking output of numbers"
   ]
  },
  {
   "cell_type": "code",
   "execution_count": 3,
   "metadata": {
    "collapsed": false
   },
   "outputs": [
    {
     "data": {
      "text/plain": [
       "[['Kansas',\n",
       "  'Miami',\n",
       "  'Arizona',\n",
       "  'Colorado',\n",
       "  'Temple',\n",
       "  'South Dakota State',\n",
       "  'Buffalo',\n",
       "  'Austin Peay'],\n",
       " ['Oklahoma',\n",
       "  'Duke',\n",
       "  'Baylor',\n",
       "  \"Saint Joseph's\",\n",
       "  'Cincinnatti',\n",
       "  'Yale',\n",
       "  'Green Bay',\n",
       "  'Holy Cross'],\n",
       " ['Xavier',\n",
       "  'Kentucky',\n",
       "  'Indiana',\n",
       "  'USC',\n",
       "  'Providence',\n",
       "  'Chattanooga',\n",
       "  'Stephen F Austin',\n",
       "  'Florida Gulf Coast'],\n",
       " ['Virginia',\n",
       "  'Utah',\n",
       "  'Purdue',\n",
       "  'Texas Tech',\n",
       "  'Butler',\n",
       "  'Gonzaga',\n",
       "  'Iona',\n",
       "  'Middle Tennessee']]"
      ]
     },
     "execution_count": 3,
     "metadata": {},
     "output_type": "execute_result"
    }
   ],
   "source": [
    "R2teams1"
   ]
  },
  {
   "cell_type": "code",
   "execution_count": 4,
   "metadata": {
    "collapsed": false
   },
   "outputs": [
    {
     "data": {
      "text/plain": [
       "array([[20, 54, 71,  5],\n",
       "       [95, 77, 92,  1],\n",
       "       [41,  5, 47, 11],\n",
       "       [98, 70, 74, 95]])"
      ]
     },
     "execution_count": 4,
     "metadata": {},
     "output_type": "execute_result"
    }
   ],
   "source": [
    "Rand2"
   ]
  },
  {
   "cell_type": "code",
   "execution_count": 5,
   "metadata": {
    "collapsed": false
   },
   "outputs": [
    {
     "data": {
      "text/plain": [
       "[['Miami', 'Arizona', 'Temple', 'Austin Peay'],\n",
       " ['Oklahoma', 'Baylor', 'Cincinnatti', 'Holy Cross'],\n",
       " ['Kentucky', 'USC', 'Chattanooga', 'Florida Gulf Coast'],\n",
       " ['Virginia', 'Purdue', 'Butler', 'Iona']]"
      ]
     },
     "execution_count": 5,
     "metadata": {},
     "output_type": "execute_result"
    }
   ],
   "source": [
    "R3teams"
   ]
  },
  {
   "cell_type": "code",
   "execution_count": 6,
   "metadata": {
    "collapsed": false
   },
   "outputs": [
    {
     "data": {
      "text/plain": [
       "array([[45, 38],\n",
       "       [56, 18],\n",
       "       [45, 25],\n",
       "       [45, 36]])"
      ]
     },
     "execution_count": 6,
     "metadata": {},
     "output_type": "execute_result"
    }
   ],
   "source": [
    "Rand3"
   ]
  },
  {
   "cell_type": "code",
   "execution_count": 7,
   "metadata": {
    "collapsed": false
   },
   "outputs": [
    {
     "data": {
      "text/plain": [
       "[['Arizona', 'Austin Peay'],\n",
       " ['Oklahoma', 'Holy Cross'],\n",
       " ['USC', 'Florida Gulf Coast'],\n",
       " ['Purdue', 'Iona']]"
      ]
     },
     "execution_count": 7,
     "metadata": {},
     "output_type": "execute_result"
    }
   ],
   "source": [
    "R4teams"
   ]
  },
  {
   "cell_type": "code",
   "execution_count": 8,
   "metadata": {
    "collapsed": false
   },
   "outputs": [
    {
     "data": {
      "text/plain": [
       "array([[93],\n",
       "       [89],\n",
       "       [52],\n",
       "       [53]])"
      ]
     },
     "execution_count": 8,
     "metadata": {},
     "output_type": "execute_result"
    }
   ],
   "source": [
    "Rand4"
   ]
  },
  {
   "cell_type": "code",
   "execution_count": 9,
   "metadata": {
    "collapsed": false
   },
   "outputs": [
    {
     "data": {
      "text/plain": [
       "[['Arizona'], ['Oklahoma'], ['USC'], ['Purdue']]"
      ]
     },
     "execution_count": 9,
     "metadata": {},
     "output_type": "execute_result"
    }
   ],
   "source": [
    "R5teams"
   ]
  },
  {
   "cell_type": "code",
   "execution_count": 10,
   "metadata": {
    "collapsed": false
   },
   "outputs": [
    {
     "data": {
      "text/plain": [
       "array([[13],\n",
       "       [90]])"
      ]
     },
     "execution_count": 10,
     "metadata": {},
     "output_type": "execute_result"
    }
   ],
   "source": [
    "Rand5"
   ]
  },
  {
   "cell_type": "code",
   "execution_count": 11,
   "metadata": {
    "collapsed": false
   },
   "outputs": [
    {
     "data": {
      "text/plain": [
       "['Oklahoma', 'USC']"
      ]
     },
     "execution_count": 11,
     "metadata": {},
     "output_type": "execute_result"
    }
   ],
   "source": [
    "R6teams"
   ]
  },
  {
   "cell_type": "code",
   "execution_count": 12,
   "metadata": {
    "collapsed": false
   },
   "outputs": [
    {
     "data": {
      "text/plain": [
       "array([[45]])"
      ]
     },
     "execution_count": 12,
     "metadata": {},
     "output_type": "execute_result"
    }
   ],
   "source": [
    "Rand6"
   ]
  },
  {
   "cell_type": "code",
   "execution_count": 13,
   "metadata": {
    "collapsed": false
   },
   "outputs": [
    {
     "data": {
      "text/plain": [
       "'USC'"
      ]
     },
     "execution_count": 13,
     "metadata": {},
     "output_type": "execute_result"
    }
   ],
   "source": [
    "Champion"
   ]
  }
 ],
 "metadata": {
  "kernelspec": {
   "display_name": "Python 3",
   "language": "python",
   "name": "python3"
  },
  "language_info": {
   "codemirror_mode": {
    "name": "ipython",
    "version": 3
   },
   "file_extension": ".py",
   "mimetype": "text/x-python",
   "name": "python",
   "nbconvert_exporter": "python",
   "pygments_lexer": "ipython3",
   "version": "3.5.1"
  }
 },
 "nbformat": 4,
 "nbformat_minor": 0
}
