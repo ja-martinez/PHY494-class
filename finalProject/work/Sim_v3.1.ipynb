{
 "cells": [
  {
   "cell_type": "code",
   "execution_count": 1,
   "metadata": {
    "collapsed": true
   },
   "outputs": [],
   "source": [
    "# Thia model integrates historic round1 seed match up information to help decide round 1 outcome, \n",
    "# with the rest of the game having 50/50 odds.\n",
    "# under this model, a 16 seed team has a 0% chance of winning"
   ]
  },
  {
   "cell_type": "code",
   "execution_count": 14,
   "metadata": {
    "collapsed": true
   },
   "outputs": [],
   "source": [
    "import numpy as np\n",
    "import timeit\n",
    "from collections import Counter"
   ]
  },
  {
   "cell_type": "code",
   "execution_count": 15,
   "metadata": {
    "collapsed": true
   },
   "outputs": [],
   "source": [
    "# Tuple Array of South, West, East and Midwest Regionals respectively, listed in the following seed ranking order (to match round 1 game matchup order) #1, 16, 8, 9, 5, 12, 4, 13, 6, 11, 3, 14, 7, 10, 2, 15\n",
    "R1teams = ((\"Kansas\", \"Austin Peay\", \"Colorado\", \"Connecticut\", \"Maryland\", \"South Dakota State\", \"California\", \"Hawaii\", \"Arizona\", \"Wichita State\", \"Miami\", \"Buffalo\", \"Iowa\", \"Temple\", \"Villanova\", \"UNC Asheville\"),\n",
    "            (\"Oregon\", \"Holy Cross\", \"Saint Joseph's\", \"Cincinnatti\", \"Baylor\", \"Yale\", \"Duke\", \"UNC Wilmington\", \"Texas\", \"Northern Iowa\", \"Texan A&M\", \"Green Bay\", \"Oregon State\", \"VCU\", \"Oklahoma\", \"Cal State Bakersfield\"),\n",
    "            (\"North Carolina\", \"Florida Gulf Coast\", \"USC\", \"Providence\", \"Indiana\", \"Chattanooga\", \"Kentucky\", \"Stony Brook\", \"Notre Dame\", \"Michigan\", \"West Virginia\", \"Stephen F Austin\", \"Wisconsin\", \"Pittsburgh\", \"Xavier\", \"Weber State\"), \n",
    "            (\"Virginia\", \"Hampton\", \"Texas Tech\", \"Butler\", \"Purdue\", \"Ankansas-Little Rock\", \"Iowa State\", \"Iona\", \"Seton Hall\", \"Gonzaga\", \"Utah\", \"Fresno State\", \"Dayton\", \"Syracuse\", \"Michigan State\", \"Middle Tennessee\"))"
   ]
  },
  {
   "cell_type": "code",
   "execution_count": 16,
   "metadata": {
    "collapsed": true
   },
   "outputs": [],
   "source": [
    "# Tuple Array of historic number of times out of 124 games (since 1985) that seed 1 has beaten seed 16, 8 beaten 9, 5 beaten 12, 4 beaten 13, 6 beaten 11, 3 beaten 14, 7 beaten 10, and 2 beaten 15, respectively\n",
    "R1SeedHistoric = (124, 63, 80, 99, 81, 104, 75, 117)\n"
   ]
  },
  {
   "cell_type": "code",
   "execution_count": 17,
   "metadata": {
    "collapsed": true
   },
   "outputs": [],
   "source": [
    "Champions = []"
   ]
  },
  {
   "cell_type": "code",
   "execution_count": 47,
   "metadata": {
    "collapsed": false
   },
   "outputs": [
    {
     "name": "stdout",
     "output_type": "stream",
     "text": [
      "65.65025451718293 seconds\n",
      "Odds Villanova wins championship: 34.13119483631207 to 1\n"
     ]
    }
   ],
   "source": [
    "start = timeit.default_timer() # starts calculation time stopwatch\n",
    "\n",
    "for i in range(100000):\n",
    "\n",
    "    # blank placeholder for each round winners\n",
    "    R1Winners=[[\"\", \"\", \"\", \"\", \"\", \"\", \"\", \"\"],\n",
    "              [\"\", \"\", \"\", \"\", \"\", \"\", \"\", \"\"],\n",
    "              [\"\", \"\", \"\", \"\", \"\", \"\", \"\", \"\"],\n",
    "              [\"\", \"\", \"\", \"\", \"\", \"\", \"\", \"\"]]\n",
    "\n",
    "    R2Winners=[[\"\", \"\", \"\", \"\"],\n",
    "              [\"\", \"\", \"\", \"\"],\n",
    "              [\"\", \"\", \"\", \"\"],\n",
    "              [\"\", \"\", \"\", \"\"]]\n",
    "\n",
    "    R3Winners=[[\"\", \"\"],\n",
    "              [\"\", \"\"],\n",
    "              [\"\", \"\"],\n",
    "              [\"\", \"\"]]\n",
    "\n",
    "    R4Winners=[[\"\"],\n",
    "              [\"\"],\n",
    "              [\"\"],\n",
    "              [\"\"]]\n",
    "\n",
    "    R5Winners=[\"\", \"\"]\n",
    "\n",
    "    Champion=[\"\"]\n",
    "\n",
    "    #Random number generator for first round of games (8 games x 4 conferences) set up to randomize out of 124 (to match R1SeedHistoric)\n",
    "    Rand1 = np.random.randint(124, size=(4, 8))\n",
    "\n",
    "    # Round 1 simulation\n",
    "    for i in range(8):\n",
    "        for j in range(4):\n",
    "            if Rand1[j][i]+1 < R1SeedHistoric[i]:\n",
    "                R1Winners[j][i] = R1teams[j][2*i]\n",
    "            else:\n",
    "                R1Winners[j][i] = R1teams[j][2*i+1]\n",
    "\n",
    "    Rand2 = np.random.randint(100, size=(4, 4))  #Random generator for second round (4 games x 4 conferences)\n",
    "\n",
    "    # Round 2 simulation\n",
    "    for i in range(4):\n",
    "        for j in range(4):\n",
    "            if Rand2[j][i] > 49:\n",
    "                R2Winners[j][i] = R1Winners[j][2*i]\n",
    "            else:\n",
    "                R2Winners[j][i] = R1Winners[j][2*i+1]\n",
    "\n",
    "    Rand3 = np.random.randint(100, size=(4, 2))\n",
    "\n",
    "    # Round 3 (Sweet 16) simulation \n",
    "    for i in range(2):\n",
    "        for j in range(4):\n",
    "            if Rand3[j][i] > 49:\n",
    "                R3Winners[j][i] = R2Winners[j][2*i]\n",
    "            else:\n",
    "                R3Winners[j][i] = R2Winners[j][2*i+1]\n",
    "\n",
    "    Rand4 = np.random.randint(100, size=(4, 1))\n",
    "\n",
    "    # Round 4 (Elite 8) simulation \n",
    "    for i in range(1):\n",
    "        for j in range(4):\n",
    "            if Rand4[j][i] > 49:\n",
    "                R4Winners[j][i] = R3Winners[j][2*i]\n",
    "            else:\n",
    "                R4Winners[j][i] = R3Winners[j][2*i+1]\n",
    "\n",
    "    Rand5 = np.random.randint(100, size=(2, 1))\n",
    "\n",
    "    # Round 5 (Final 4) simulation \n",
    "    for i in range(2):\n",
    "        if Rand5[i][0] > 49:\n",
    "            R5Winners[i] = R4Winners[2*i][0]\n",
    "        else:\n",
    "            R5Winners[i] = R4Winners[2*i+1][0]\n",
    "\n",
    "    Rand6 = np.random.randint(100, size=(1, 1))\n",
    "\n",
    "    # Round 6 (Championship) simulation \n",
    "\n",
    "    if Rand6[0][0] > 49:\n",
    "        Champion = R5Winners[0]\n",
    "    else:\n",
    "        Champion = R5Winners[1]\n",
    "    \n",
    "    Champions.append(Champion)\n",
    "\n",
    "stop = timeit.default_timer() # stops calculation time stopwatch\n",
    "\n",
    "print(stop - start, \"seconds\") # show total calculation time \n",
    "    \n",
    "timeit.timeit() #Calculation time taken to calculate 1 loop\n",
    "\n",
    "print(\"Odds Villanova wins championship:\", len(Champions) / Champions.count(\"Villanova\"), \"to 1\")"
   ]
  },
  {
   "cell_type": "code",
   "execution_count": 7,
   "metadata": {
    "collapsed": false
   },
   "outputs": [],
   "source": [
    "# Champions"
   ]
  },
  {
   "cell_type": "code",
   "execution_count": 42,
   "metadata": {
    "collapsed": false
   },
   "outputs": [
    {
     "data": {
      "text/plain": [
       "1792000"
      ]
     },
     "execution_count": 42,
     "metadata": {},
     "output_type": "execute_result"
    }
   ],
   "source": [
    "len(Champions)"
   ]
  },
  {
   "cell_type": "code",
   "execution_count": 43,
   "metadata": {
    "collapsed": false
   },
   "outputs": [
    {
     "data": {
      "text/plain": [
       "[('Oregon', 55783),\n",
       " ('Virginia', 55760),\n",
       " ('Kansas', 55664),\n",
       " ('North Carolina', 55460),\n",
       " ('Oklahoma', 52934),\n",
       " ('Villanova', 52581),\n",
       " ('Michigan State', 52539),\n",
       " ('Xavier', 52494),\n",
       " ('Texan A&M', 46772),\n",
       " ('West Virginia', 46642)]"
      ]
     },
     "execution_count": 43,
     "metadata": {},
     "output_type": "execute_result"
    }
   ],
   "source": [
    "#List most recurring Champions in list\n",
    "\n",
    "Counter(Champions).most_common(10)"
   ]
  },
  {
   "cell_type": "code",
   "execution_count": 38,
   "metadata": {
    "collapsed": false
   },
   "outputs": [
    {
     "data": {
      "text/plain": [
       "20116"
      ]
     },
     "execution_count": 38,
     "metadata": {},
     "output_type": "execute_result"
    }
   ],
   "source": [
    "# Counts number of time the real world 2016 NCAA champion appears in our champions list\n",
    "\n",
    "Champions.count(\"Villanova\")"
   ]
  },
  {
   "cell_type": "code",
   "execution_count": 13,
   "metadata": {
    "collapsed": false
   },
   "outputs": [],
   "source": [
    "# R1Winners"
   ]
  },
  {
   "cell_type": "code",
   "execution_count": null,
   "metadata": {
    "collapsed": true
   },
   "outputs": [],
   "source": []
  }
 ],
 "metadata": {
  "kernelspec": {
   "display_name": "Python 3",
   "language": "python",
   "name": "python3"
  },
  "language_info": {
   "codemirror_mode": {
    "name": "ipython",
    "version": 3
   },
   "file_extension": ".py",
   "mimetype": "text/x-python",
   "name": "python",
   "nbconvert_exporter": "python",
   "pygments_lexer": "ipython3",
   "version": "3.5.1"
  }
 },
 "nbformat": 4,
 "nbformat_minor": 0
}
