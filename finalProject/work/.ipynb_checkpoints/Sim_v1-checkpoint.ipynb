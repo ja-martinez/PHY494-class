{
 "cells": [
  {
   "cell_type": "code",
   "execution_count": 4,
   "metadata": {
    "collapsed": false
   },
   "outputs": [],
   "source": [
    "import numpy as np"
   ]
  },
  {
   "cell_type": "code",
   "execution_count": 5,
   "metadata": {
    "collapsed": true
   },
   "outputs": [],
   "source": [
    "#tuple array of South, West, East and Midwest Regionals respectively, listed in #1 - 16 seed order\n",
    "R1teams = ((\"Kansas\", \"Villanova\", \"Miami\", \"California\", \"Maryland\", \"Arizona\", \"Iowa\", \"Colorado\", \"Connecticut\", \"Temple\", \"Wichita State\", \"South Dakota State\", \"Hawaii\", \"Buffalo\", \"UNC Asheville\", \"Austin Peay\"),\n",
    "            (\"Oregon\", \"Oklahoma\", \"Texan A&M\", \"Duke\", \"Baylor\", \"Texas\", \"Oregon State\", \"Saint Joseph's\", \"Cincinnatti\", \"VCU\", \"Northern Iowa\", \"Yale\", \"UNC Wilmington\", \"Green Bay\", \"Cal State Bakersfield\", \"Holy Cross\"),\n",
    "            (\"North Carolina\", \"Xavier\", \"West Virginia\", \"Kentucky\", \"Indiana\", \"Notre Dame\", \"Wisconsin\", \"USC\", \"Providence\", \"Pittsburgh\", \"Michigan\", \"Chattanooga\", \"Stony Brook\", \"Stephen F Austin\", \"Weber State\", \"Florida Gulf Coast\"), \n",
    "            (\"Virginia\", \"Michigan State\", \"Utah\", \"Iowa State\", \"Purdue\", \"Seton Hall\", \"Dayton\", \"Texas Tech\", \"Butler\", \"Syracuse\", \"Gonzaga\", \"Ankansas-Little Rock\", \"Iona\", \"Fresno State\", \"Middle Tennessee\", \"Hampton\"))"
   ]
  },
  {
   "cell_type": "code",
   "execution_count": 6,
   "metadata": {
    "collapsed": false
   },
   "outputs": [
    {
     "data": {
      "text/plain": [
       "'Hampton'"
      ]
     },
     "execution_count": 6,
     "metadata": {},
     "output_type": "execute_result"
    }
   ],
   "source": [
    "R1teams[3][15]"
   ]
  },
  {
   "cell_type": "code",
   "execution_count": 7,
   "metadata": {
    "collapsed": false
   },
   "outputs": [],
   "source": [
    "#Random number generator for first round of games (8 games x 4 conferences)\n",
    "Rand1 = np.random.randint(100, size=(4, 8))"
   ]
  },
  {
   "cell_type": "code",
   "execution_count": 8,
   "metadata": {
    "collapsed": false
   },
   "outputs": [
    {
     "data": {
      "text/plain": [
       "array([[57, 82, 33, 83, 18, 65, 35, 49],\n",
       "       [63, 61, 26, 66, 46, 53, 93, 85],\n",
       "       [57, 65, 41, 87, 46, 30, 76, 87],\n",
       "       [44, 50,  0, 42,  8, 10, 38, 67]])"
      ]
     },
     "execution_count": 8,
     "metadata": {},
     "output_type": "execute_result"
    }
   ],
   "source": [
    "Rand1      # Checking output of numbers"
   ]
  },
  {
   "cell_type": "code",
   "execution_count": 17,
   "metadata": {
    "collapsed": false
   },
   "outputs": [],
   "source": [
    "# Try and get this to work so that cell below can be avoided\n",
    "for i in range(8):\n",
    "    for j in range(4):\n",
    "        if Rand1[j][i] > 49:\n",
    "            R2teams2[j][i] = R1teams[j][2*i]\n",
    "        else:\n",
    "            R2teams2[j][i] = R1teams[j][2*i+1]"
   ]
  },
  {
   "cell_type": "code",
   "execution_count": 7,
   "metadata": {
    "collapsed": true
   },
   "outputs": [],
   "source": [
    "# Round 1 simulation \n",
    "\n",
    "if Rand1[0][0]>49:\n",
    "    S1_1 = R1teams[0][0]\n",
    "else:\n",
    "    S1_1 = R1teams[0][1]\n",
    "\n",
    "if Rand1[0][1]>49:\n",
    "    S1_2 = R1teams[0][2]\n",
    "else:\n",
    "    S1_2 = R1teams[0][3]    \n",
    "\n",
    "if Rand1[0][2]>49:\n",
    "    S1_3 = R1teams[0][4]\n",
    "else:\n",
    "    S1_3 = R1teams[0][5]\n",
    "    \n",
    "if Rand1[0][3]>49:\n",
    "    S1_4 = R1teams[0][6]\n",
    "else:\n",
    "    S1_4 = R1teams[0][7]    \n",
    "\n",
    "if Rand1[0][4]>49:\n",
    "    S1_5 = R1teams[0][8]\n",
    "else:\n",
    "    S1_5 = R1teams[0][9]    \n",
    "\n",
    "if Rand1[0][5]>49:\n",
    "    S1_6 = R1teams[0][10]\n",
    "else:\n",
    "    S1_6 = R1teams[0][11]    \n",
    "\n",
    "if Rand1[0][6]>49:\n",
    "    S1_7 = R1teams[0][12]\n",
    "else:\n",
    "    S1_7 = R1teams[0][13]    \n",
    "\n",
    "if Rand1[0][7]>49:\n",
    "    S1_8 = R1teams[0][14]\n",
    "else:\n",
    "    S1_8 = R1teams[0][15]    \n",
    "\n",
    "\n",
    "    \n",
    "if Rand1[1][0]>49:\n",
    "    W1_1 = R1teams[1][0]\n",
    "else:\n",
    "    W1_1 = R1teams[1][1]\n",
    "\n",
    "if Rand1[1][1]>49:\n",
    "    W1_2 = R1teams[1][2]\n",
    "else:\n",
    "    W1_2 = R1teams[1][3]    \n",
    "\n",
    "if Rand1[1][2]>49:\n",
    "    W1_3 = R1teams[1][4]\n",
    "else:\n",
    "    W1_3 = R1teams[1][5]\n",
    "    \n",
    "if Rand1[1][3]>49:\n",
    "    W1_4 = R1teams[1][6]\n",
    "else:\n",
    "    W1_4 = R1teams[1][7]    \n",
    "\n",
    "if Rand1[1][4]>49:\n",
    "    W1_5 = R1teams[1][8]\n",
    "else:\n",
    "    W1_5 = R1teams[1][9]    \n",
    "\n",
    "if Rand1[1][5]>49:\n",
    "    W1_6 = R1teams[1][10]\n",
    "else:\n",
    "    W1_6 = R1teams[1][11]    \n",
    "\n",
    "if Rand1[1][6]>49:\n",
    "    W1_7 = R1teams[1][12]\n",
    "else:\n",
    "    W1_7 = R1teams[1][13]    \n",
    "\n",
    "if Rand1[1][7]>49:\n",
    "    W1_8 = R1teams[1][14]\n",
    "else:\n",
    "    W1_8 = R1teams[1][15]    \n",
    "\n",
    "\n",
    "    \n",
    "if Rand1[2][0]>49:\n",
    "    E1_1 = R1teams[2][0]\n",
    "else:\n",
    "    E1_1 = R1teams[2][1]\n",
    "\n",
    "if Rand1[2][1]>49:\n",
    "    E1_2 = R1teams[2][2]\n",
    "else:\n",
    "    E1_2 = R1teams[2][3]    \n",
    "\n",
    "if Rand1[2][2]>49:\n",
    "    E1_3 = R1teams[2][4]\n",
    "else:\n",
    "    E1_3 = R1teams[2][5]\n",
    "    \n",
    "if Rand1[2][3]>49:\n",
    "    E1_4 = R1teams[2][6]\n",
    "else:\n",
    "    E1_4 = R1teams[2][7]    \n",
    "\n",
    "if Rand1[2][4]>49:\n",
    "    E1_5 = R1teams[2][8]\n",
    "else:\n",
    "    E1_5 = R1teams[2][9]    \n",
    "\n",
    "if Rand1[2][5]>49:\n",
    "    E1_6 = R1teams[2][10]\n",
    "else:\n",
    "    E1_6 = R1teams[2][11]    \n",
    "\n",
    "if Rand1[2][6]>49:\n",
    "    E1_7 = R1teams[2][12]\n",
    "else:\n",
    "    E1_7 = R1teams[2][13]    \n",
    "\n",
    "if Rand1[2][7]>49:\n",
    "    E1_8 = R1teams[2][14]\n",
    "else:\n",
    "    E1_8 = R1teams[2][15]    \n",
    "\n",
    "    \n",
    "\n",
    "if Rand1[3][0]>49:\n",
    "    M1_1 = R1teams[3][0]\n",
    "else:\n",
    "    M1_1 = R1teams[3][1]\n",
    "\n",
    "if Rand1[3][1]>49:\n",
    "    M1_2 = R1teams[3][2]\n",
    "else:\n",
    "    M1_2 = R1teams[3][3]    \n",
    "\n",
    "if Rand1[3][2]>49:\n",
    "    M1_3 = R1teams[3][4]\n",
    "else:\n",
    "    M1_3 = R1teams[3][5]\n",
    "    \n",
    "if Rand1[3][3]>49:\n",
    "    M1_4 = R1teams[3][6]\n",
    "else:\n",
    "    M1_4 = R1teams[3][7]    \n",
    "\n",
    "if Rand1[3][4]>49:\n",
    "    M1_5 = R1teams[3][8]\n",
    "else:\n",
    "    M1_5 = R1teams[3][9]    \n",
    "\n",
    "if Rand1[3][5]>49:\n",
    "    M1_6 = R1teams[3][10]\n",
    "else:\n",
    "    M1_6 = R1teams[3][11]    \n",
    "\n",
    "if Rand1[3][6]>49:\n",
    "    M1_7 = R1teams[3][12]\n",
    "else:\n",
    "    M1_7 = R1teams[3][13]    \n",
    "\n",
    "if Rand1[3][7]>49:\n",
    "    M1_8 = R1teams[3][14]\n",
    "else:\n",
    "    M1_8 = R1teams[3][15]    \n"
   ]
  },
  {
   "cell_type": "code",
   "execution_count": 8,
   "metadata": {
    "collapsed": true
   },
   "outputs": [],
   "source": [
    "# Winners of Round 1\n",
    "R2teams1=[[S1_1, S1_2, S1_3, S1_4, S1_5, S1_6, S1_7, S1_8],\n",
    "          [W1_1, W1_2, W1_3, W1_4, W1_5, W1_6, W1_7, W1_8],\n",
    "          [E1_1, E1_2, E1_3, E1_4, E1_5, E1_6, E1_7, E1_8],\n",
    "          [M1_1, M1_2, M1_3, M1_4, M1_5, M1_6, M1_7, M1_8]]"
   ]
  },
  {
   "cell_type": "code",
   "execution_count": 9,
   "metadata": {
    "collapsed": false
   },
   "outputs": [
    {
     "data": {
      "text/plain": [
       "[['Kansas',\n",
       "  'California',\n",
       "  'Maryland',\n",
       "  'Colorado',\n",
       "  'Temple',\n",
       "  'Wichita State',\n",
       "  'Hawaii',\n",
       "  'Austin Peay'],\n",
       " ['Oregon',\n",
       "  'Duke',\n",
       "  'Texas',\n",
       "  \"Saint Joseph's\",\n",
       "  'Cincinnatti',\n",
       "  'Northern Iowa',\n",
       "  'UNC Wilmington',\n",
       "  'Holy Cross'],\n",
       " ['Xavier',\n",
       "  'Kentucky',\n",
       "  'Notre Dame',\n",
       "  'Wisconsin',\n",
       "  'Pittsburgh',\n",
       "  'Michigan',\n",
       "  'Stony Brook',\n",
       "  'Weber State'],\n",
       " ['Michigan State',\n",
       "  'Iowa State',\n",
       "  'Purdue',\n",
       "  'Texas Tech',\n",
       "  'Butler',\n",
       "  'Gonzaga',\n",
       "  'Iona',\n",
       "  'Hampton']]"
      ]
     },
     "execution_count": 9,
     "metadata": {},
     "output_type": "execute_result"
    }
   ],
   "source": [
    "R2teams1"
   ]
  },
  {
   "cell_type": "code",
   "execution_count": 10,
   "metadata": {
    "collapsed": true
   },
   "outputs": [],
   "source": [
    "Rand2 = np.random.randint(100, size=(4, 4))  #Random generator for second round (4 games x 4 conferences)"
   ]
  },
  {
   "cell_type": "code",
   "execution_count": 11,
   "metadata": {
    "collapsed": false
   },
   "outputs": [
    {
     "data": {
      "text/plain": [
       "array([[39,  9, 65,  0],\n",
       "       [66, 97, 96,  7],\n",
       "       [71, 45, 53,  1],\n",
       "       [44, 22, 66, 80]])"
      ]
     },
     "execution_count": 11,
     "metadata": {},
     "output_type": "execute_result"
    }
   ],
   "source": [
    "Rand2"
   ]
  },
  {
   "cell_type": "code",
   "execution_count": 12,
   "metadata": {
    "collapsed": true
   },
   "outputs": [],
   "source": [
    "# Round 2 simulation \n",
    "\n",
    "if Rand2[0][0]>49:\n",
    "    S2_1 = R2teams1[0][0]\n",
    "else:\n",
    "    S2_1 = R2teams1[0][1]\n",
    "\n",
    "if Rand2[0][1]>49:\n",
    "    S2_2 = R2teams1[0][2]\n",
    "else:\n",
    "    S2_2 = R2teams1[0][3]    \n",
    "\n",
    "if Rand2[0][2]>49:\n",
    "    S2_3 = R2teams1[0][4]\n",
    "else:\n",
    "    S2_3 = R2teams1[0][5]\n",
    "    \n",
    "if Rand2[0][3]>49:\n",
    "    S2_4 = R2teams1[0][6]\n",
    "else:\n",
    "    S2_4 = R2teams1[0][7]    \n",
    "\n",
    "\n",
    "    \n",
    "if Rand2[1][0]>49:\n",
    "    W2_1 = R2teams1[1][0]\n",
    "else:\n",
    "    W2_1 = R2teams1[1][1]\n",
    "\n",
    "if Rand2[1][1]>49:\n",
    "    W2_2 = R2teams1[1][2]\n",
    "else:\n",
    "    W2_2 = R2teams1[1][3]    \n",
    "\n",
    "if Rand2[1][2]>49:\n",
    "    W2_3 = R2teams1[1][4]\n",
    "else:\n",
    "    W2_3 = R2teams1[1][5]\n",
    "    \n",
    "if Rand2[1][3]>49:\n",
    "    W2_4 = R2teams1[1][6]\n",
    "else:\n",
    "    W2_4 = R2teams1[1][7]    \n",
    "\n",
    "\n",
    "    \n",
    "if Rand2[2][0]>49:\n",
    "    E2_1 = R2teams1[2][0]\n",
    "else:\n",
    "    E2_1 = R2teams1[2][1]\n",
    "\n",
    "if Rand2[2][1]>49:\n",
    "    E2_2 = R2teams1[2][2]\n",
    "else:\n",
    "    E2_2 = R2teams1[2][3]    \n",
    "\n",
    "if Rand2[2][2]>49:\n",
    "    E2_3 = R2teams1[2][4]\n",
    "else:\n",
    "    E2_3 = R2teams1[2][5]\n",
    "    \n",
    "if Rand2[2][3]>49:\n",
    "    E2_4 = R2teams1[2][6]\n",
    "else:\n",
    "    E2_4 = R2teams1[2][7]    \n",
    "\n",
    "    \n",
    "\n",
    "if Rand2[3][0]>49:\n",
    "    M2_1 = R2teams1[3][0]\n",
    "else:\n",
    "    M2_1 = R2teams1[3][1]\n",
    "\n",
    "if Rand2[3][1]>49:\n",
    "    M2_2 = R2teams1[3][2]\n",
    "else:\n",
    "    M2_2 = R2teams1[3][3]    \n",
    "\n",
    "if Rand2[3][2]>49:\n",
    "    M2_3 = R2teams1[3][4]\n",
    "else:\n",
    "    M2_3 = R2teams1[3][5]\n",
    "    \n",
    "if Rand2[3][3]>49:\n",
    "    M2_4 = R2teams1[3][6]\n",
    "else:\n",
    "    M2_4 = R2teams1[3][7]    "
   ]
  },
  {
   "cell_type": "code",
   "execution_count": 13,
   "metadata": {
    "collapsed": true
   },
   "outputs": [],
   "source": [
    "# Winners of Round 2\n",
    "R3teams=[[S2_1, S2_2, S2_3, S2_4],\n",
    "          [W2_1, W2_2, W2_3, W2_4],\n",
    "          [E2_1, E2_2, E2_3, E2_4],\n",
    "          [M2_1, M2_2, M2_3, M2_4]]"
   ]
  },
  {
   "cell_type": "code",
   "execution_count": 14,
   "metadata": {
    "collapsed": false
   },
   "outputs": [
    {
     "data": {
      "text/plain": [
       "[['California', 'Colorado', 'Temple', 'Austin Peay'],\n",
       " ['Oregon', 'Texas', 'Cincinnatti', 'Holy Cross'],\n",
       " ['Xavier', 'Wisconsin', 'Pittsburgh', 'Weber State'],\n",
       " ['Iowa State', 'Texas Tech', 'Butler', 'Iona']]"
      ]
     },
     "execution_count": 14,
     "metadata": {},
     "output_type": "execute_result"
    }
   ],
   "source": [
    "R3teams"
   ]
  },
  {
   "cell_type": "code",
   "execution_count": 15,
   "metadata": {
    "collapsed": true
   },
   "outputs": [],
   "source": [
    "Rand3 = np.random.randint(100, size=(4, 2))"
   ]
  },
  {
   "cell_type": "code",
   "execution_count": 16,
   "metadata": {
    "collapsed": false
   },
   "outputs": [
    {
     "data": {
      "text/plain": [
       "array([[ 3,  5],\n",
       "       [25, 65],\n",
       "       [14, 60],\n",
       "       [84, 88]])"
      ]
     },
     "execution_count": 16,
     "metadata": {},
     "output_type": "execute_result"
    }
   ],
   "source": [
    "Rand3"
   ]
  },
  {
   "cell_type": "code",
   "execution_count": 17,
   "metadata": {
    "collapsed": false,
    "scrolled": true
   },
   "outputs": [],
   "source": [
    "# Round 3 (Sweet 16) simulation \n",
    "\n",
    "if Rand3[0][0]>49:\n",
    "    S3_1 = R3teams[0][0]\n",
    "else:\n",
    "    S3_1 = R3teams[0][1]\n",
    "\n",
    "if Rand3[0][1]>49:\n",
    "    S3_2 = R3teams[0][2]\n",
    "else:\n",
    "    S3_2 = R3teams[0][3]    \n",
    " \n",
    "\n",
    "    \n",
    "if Rand3[1][0]>49:\n",
    "    W3_1 = R3teams[1][0]\n",
    "else:\n",
    "    W3_1 = R3teams[1][1]\n",
    "\n",
    "if Rand3[1][1]>49:\n",
    "    W3_2 = R3teams[1][2]\n",
    "else:\n",
    "    W3_2 = R3teams[1][3]    \n",
    "   \n",
    "\n",
    "    \n",
    "if Rand3[2][0]>49:\n",
    "    E3_1 = R3teams[2][0]\n",
    "else:\n",
    "    E3_1 = R3teams[2][1]\n",
    "\n",
    "if Rand3[2][1]>49:\n",
    "    E3_2 = R3teams[2][2]\n",
    "else:\n",
    "    E3_2 = R3teams[2][3]    \n",
    "\n",
    "    \n",
    "\n",
    "if Rand3[3][0]>49:\n",
    "    M3_1 = R3teams[3][0]\n",
    "else:\n",
    "    M3_1 = R3teams[3][1]\n",
    "\n",
    "if Rand3[3][1]>49:\n",
    "    M3_2 = R3teams[3][2]\n",
    "else:\n",
    "    M3_2 = R3teams[3][3]    "
   ]
  },
  {
   "cell_type": "code",
   "execution_count": 18,
   "metadata": {
    "collapsed": false
   },
   "outputs": [],
   "source": [
    "R4teams=[[S3_1, S3_2],\n",
    "          [W3_1, W3_2],\n",
    "          [E3_1, E3_2],\n",
    "          [M3_1, M3_2]]"
   ]
  },
  {
   "cell_type": "code",
   "execution_count": 19,
   "metadata": {
    "collapsed": false
   },
   "outputs": [
    {
     "data": {
      "text/plain": [
       "[['Colorado', 'Austin Peay'],\n",
       " ['Texas', 'Cincinnatti'],\n",
       " ['Wisconsin', 'Pittsburgh'],\n",
       " ['Iowa State', 'Butler']]"
      ]
     },
     "execution_count": 19,
     "metadata": {},
     "output_type": "execute_result"
    }
   ],
   "source": [
    "R4teams"
   ]
  },
  {
   "cell_type": "code",
   "execution_count": 20,
   "metadata": {
    "collapsed": true
   },
   "outputs": [],
   "source": [
    "Rand4 = np.random.randint(100, size=(4, 1))"
   ]
  },
  {
   "cell_type": "code",
   "execution_count": 21,
   "metadata": {
    "collapsed": false
   },
   "outputs": [
    {
     "data": {
      "text/plain": [
       "array([[35],\n",
       "       [16],\n",
       "       [40],\n",
       "       [46]])"
      ]
     },
     "execution_count": 21,
     "metadata": {},
     "output_type": "execute_result"
    }
   ],
   "source": [
    "Rand4"
   ]
  },
  {
   "cell_type": "code",
   "execution_count": 22,
   "metadata": {
    "collapsed": true
   },
   "outputs": [],
   "source": [
    "# Round 4 (Elite 8) simulation \n",
    "\n",
    "if Rand4[0][0]>49:\n",
    "    S4 = R4teams[0][0]\n",
    "else:\n",
    "    S4 = R4teams[0][1]\n",
    "\n",
    "if Rand4[1][0]>49:\n",
    "    W4 = R4teams[1][0]\n",
    "else:\n",
    "    W4 = R4teams[1][1]\n",
    "    \n",
    "if Rand4[2][0]>49:\n",
    "    E4 = R4teams[2][0]\n",
    "else:\n",
    "    E4 = R4teams[2][1]\n",
    "    \n",
    "if Rand4[3][0]>49:\n",
    "    M4 = R4teams[3][0]\n",
    "else:\n",
    "    M4 = R4teams[3][1]"
   ]
  },
  {
   "cell_type": "code",
   "execution_count": 23,
   "metadata": {
    "collapsed": false
   },
   "outputs": [],
   "source": [
    "R5teams=[[S4],\n",
    "          [W4],\n",
    "          [E4],\n",
    "          [M4]]"
   ]
  },
  {
   "cell_type": "code",
   "execution_count": 24,
   "metadata": {
    "collapsed": false
   },
   "outputs": [
    {
     "data": {
      "text/plain": [
       "[['Austin Peay'], ['Cincinnatti'], ['Pittsburgh'], ['Butler']]"
      ]
     },
     "execution_count": 24,
     "metadata": {},
     "output_type": "execute_result"
    }
   ],
   "source": [
    "R5teams"
   ]
  },
  {
   "cell_type": "code",
   "execution_count": 25,
   "metadata": {
    "collapsed": false
   },
   "outputs": [],
   "source": [
    "Rand5 = np.random.randint(100, size=(2, 1))"
   ]
  },
  {
   "cell_type": "code",
   "execution_count": 26,
   "metadata": {
    "collapsed": false
   },
   "outputs": [
    {
     "data": {
      "text/plain": [
       "array([[82],\n",
       "       [ 0]])"
      ]
     },
     "execution_count": 26,
     "metadata": {},
     "output_type": "execute_result"
    }
   ],
   "source": [
    "Rand5"
   ]
  },
  {
   "cell_type": "code",
   "execution_count": 27,
   "metadata": {
    "collapsed": false
   },
   "outputs": [],
   "source": [
    "# Round 5 (Final 4) simulation \n",
    "\n",
    "if Rand5[0][0]>49:\n",
    "    F1 = R5teams[0][0]\n",
    "else:\n",
    "    F1 = R5teams[1][0]\n",
    "\n",
    "if Rand5[1][0]>49:\n",
    "    F2 = R5teams[2][0]\n",
    "else:\n",
    "    F2 = R5teams[3][0]"
   ]
  },
  {
   "cell_type": "code",
   "execution_count": 28,
   "metadata": {
    "collapsed": true
   },
   "outputs": [],
   "source": [
    "R6teams=[F1, F2]"
   ]
  },
  {
   "cell_type": "code",
   "execution_count": 29,
   "metadata": {
    "collapsed": false
   },
   "outputs": [
    {
     "data": {
      "text/plain": [
       "['Austin Peay', 'Butler']"
      ]
     },
     "execution_count": 29,
     "metadata": {},
     "output_type": "execute_result"
    }
   ],
   "source": [
    "R6teams"
   ]
  },
  {
   "cell_type": "code",
   "execution_count": 30,
   "metadata": {
    "collapsed": false
   },
   "outputs": [],
   "source": [
    "Rand6 = np.random.randint(100, size=(1, 1))"
   ]
  },
  {
   "cell_type": "code",
   "execution_count": 31,
   "metadata": {
    "collapsed": false
   },
   "outputs": [
    {
     "data": {
      "text/plain": [
       "array([[34]])"
      ]
     },
     "execution_count": 31,
     "metadata": {},
     "output_type": "execute_result"
    }
   ],
   "source": [
    "Rand6"
   ]
  },
  {
   "cell_type": "code",
   "execution_count": 32,
   "metadata": {
    "collapsed": false
   },
   "outputs": [],
   "source": [
    "# Round 5 (Championship) simulation \n",
    "\n",
    "if Rand6[0][0]>49:\n",
    "    Winner = R6teams[0]\n",
    "else:\n",
    "    Winner = R6teams[1]"
   ]
  },
  {
   "cell_type": "code",
   "execution_count": 33,
   "metadata": {
    "collapsed": true
   },
   "outputs": [],
   "source": [
    "Champion = Winner"
   ]
  },
  {
   "cell_type": "code",
   "execution_count": 34,
   "metadata": {
    "collapsed": false
   },
   "outputs": [
    {
     "data": {
      "text/plain": [
       "'Butler'"
      ]
     },
     "execution_count": 34,
     "metadata": {},
     "output_type": "execute_result"
    }
   ],
   "source": [
    "Champion"
   ]
  },
  {
   "cell_type": "code",
   "execution_count": null,
   "metadata": {
    "collapsed": true
   },
   "outputs": [],
   "source": []
  },
  {
   "cell_type": "code",
   "execution_count": null,
   "metadata": {
    "collapsed": true
   },
   "outputs": [],
   "source": []
  },
  {
   "cell_type": "code",
   "execution_count": null,
   "metadata": {
    "collapsed": true
   },
   "outputs": [],
   "source": []
  },
  {
   "cell_type": "code",
   "execution_count": 35,
   "metadata": {
    "collapsed": true
   },
   "outputs": [],
   "source": [
    "# Blank 4x8 matrix for simulation to populate the Round 1 winners into ... original plan but didn't work\n",
    "# Can't later populate with strings...\n",
    "R2teams = np.zeros((4, 8))"
   ]
  },
  {
   "cell_type": "code",
   "execution_count": 36,
   "metadata": {
    "collapsed": false
   },
   "outputs": [
    {
     "data": {
      "text/plain": [
       "array([[ 0.,  0.,  0.,  0.,  0.,  0.,  0.,  0.],\n",
       "       [ 0.,  0.,  0.,  0.,  0.,  0.,  0.,  0.],\n",
       "       [ 0.,  0.,  0.,  0.,  0.,  0.,  0.,  0.],\n",
       "       [ 0.,  0.,  0.,  0.,  0.,  0.,  0.,  0.]])"
      ]
     },
     "execution_count": 36,
     "metadata": {},
     "output_type": "execute_result"
    }
   ],
   "source": [
    "R2teams"
   ]
  },
  {
   "cell_type": "code",
   "execution_count": 12,
   "metadata": {
    "collapsed": true
   },
   "outputs": [],
   "source": [
    "# Alternative method 2, another placeholder method\n",
    "R2teams2=[[\"\", \"\", \"\", \"\", \"\", \"\", \"\", \"\"],\n",
    "          [\"\", \"\", \"\", \"\", \"\", \"\", \"\", \"\"],\n",
    "          [\"\", \"\", \"\", \"\", \"\", \"\", \"\", \"\"],\n",
    "          [\"\", \"\", \"\", \"\", \"\", \"\", \"\", \"\"]]"
   ]
  },
  {
   "cell_type": "code",
   "execution_count": 18,
   "metadata": {
    "collapsed": false
   },
   "outputs": [
    {
     "data": {
      "text/plain": [
       "[['Kansas',\n",
       "  'Miami',\n",
       "  'Arizona',\n",
       "  'Iowa',\n",
       "  'Temple',\n",
       "  'Wichita State',\n",
       "  'Buffalo',\n",
       "  'Austin Peay'],\n",
       " ['Oregon',\n",
       "  'Texan A&M',\n",
       "  'Texas',\n",
       "  'Oregon State',\n",
       "  'VCU',\n",
       "  'Northern Iowa',\n",
       "  'UNC Wilmington',\n",
       "  'Cal State Bakersfield'],\n",
       " ['North Carolina',\n",
       "  'West Virginia',\n",
       "  'Notre Dame',\n",
       "  'Wisconsin',\n",
       "  'Pittsburgh',\n",
       "  'Chattanooga',\n",
       "  'Stony Brook',\n",
       "  'Weber State'],\n",
       " ['Michigan State',\n",
       "  'Utah',\n",
       "  'Seton Hall',\n",
       "  'Texas Tech',\n",
       "  'Syracuse',\n",
       "  'Ankansas-Little Rock',\n",
       "  'Fresno State',\n",
       "  'Middle Tennessee']]"
      ]
     },
     "execution_count": 18,
     "metadata": {},
     "output_type": "execute_result"
    }
   ],
   "source": [
    "R2teams2"
   ]
  },
  {
   "cell_type": "code",
   "execution_count": null,
   "metadata": {
    "collapsed": true
   },
   "outputs": [],
   "source": []
  }
 ],
 "metadata": {
  "kernelspec": {
   "display_name": "Python 3",
   "language": "python",
   "name": "python3"
  },
  "language_info": {
   "codemirror_mode": {
    "name": "ipython",
    "version": 3
   },
   "file_extension": ".py",
   "mimetype": "text/x-python",
   "name": "python",
   "nbconvert_exporter": "python",
   "pygments_lexer": "ipython3",
   "version": "3.5.1"
  }
 },
 "nbformat": 4,
 "nbformat_minor": 0
}
