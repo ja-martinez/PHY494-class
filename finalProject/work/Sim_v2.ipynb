{
 "cells": [
  {
   "cell_type": "code",
   "execution_count": 2,
   "metadata": {
    "collapsed": false
   },
   "outputs": [],
   "source": [
    "import numpy as np"
   ]
  },
  {
   "cell_type": "code",
   "execution_count": 3,
   "metadata": {
    "collapsed": true
   },
   "outputs": [],
   "source": [
    "#tuple array of South, West, East and Midwest Regionals respectively, listed in #1 - 16 seed order\n",
    "R1teams = ((\"Kansas\", \"Villanova\", \"Miami\", \"California\", \"Maryland\", \"Arizona\", \"Iowa\", \"Colorado\", \"Connecticut\", \"Temple\", \"Wichita State\", \"South Dakota State\", \"Hawaii\", \"Buffalo\", \"UNC Asheville\", \"Austin Peay\"),\n",
    "            (\"Oregon\", \"Oklahoma\", \"Texan A&M\", \"Duke\", \"Baylor\", \"Texas\", \"Oregon State\", \"Saint Joseph's\", \"Cincinnatti\", \"VCU\", \"Northern Iowa\", \"Yale\", \"UNC Wilmington\", \"Green Bay\", \"Cal State Bakersfield\", \"Holy Cross\"),\n",
    "            (\"North Carolina\", \"Xavier\", \"West Virginia\", \"Kentucky\", \"Indiana\", \"Notre Dame\", \"Wisconsin\", \"USC\", \"Providence\", \"Pittsburgh\", \"Michigan\", \"Chattanooga\", \"Stony Brook\", \"Stephen F Austin\", \"Weber State\", \"Florida Gulf Coast\"), \n",
    "            (\"Virginia\", \"Michigan State\", \"Utah\", \"Iowa State\", \"Purdue\", \"Seton Hall\", \"Dayton\", \"Texas Tech\", \"Butler\", \"Syracuse\", \"Gonzaga\", \"Ankansas-Little Rock\", \"Iona\", \"Fresno State\", \"Middle Tennessee\", \"Hampton\"))"
   ]
  },
  {
   "cell_type": "code",
   "execution_count": 71,
   "metadata": {
    "collapsed": true
   },
   "outputs": [],
   "source": [
    "# blank placeholder for each round winners\n",
    "R1Winners=[[\"\", \"\", \"\", \"\", \"\", \"\", \"\", \"\"],\n",
    "          [\"\", \"\", \"\", \"\", \"\", \"\", \"\", \"\"],\n",
    "          [\"\", \"\", \"\", \"\", \"\", \"\", \"\", \"\"],\n",
    "          [\"\", \"\", \"\", \"\", \"\", \"\", \"\", \"\"]]\n",
    "\n",
    "R2Winners=[[\"\", \"\", \"\", \"\"],\n",
    "          [\"\", \"\", \"\", \"\"],\n",
    "          [\"\", \"\", \"\", \"\"],\n",
    "          [\"\", \"\", \"\", \"\"]]\n",
    "\n",
    "R3Winners=[[\"\", \"\"],\n",
    "          [\"\", \"\"],\n",
    "          [\"\", \"\"],\n",
    "          [\"\", \"\"]]\n",
    "\n",
    "R4Winners=[[\"\"],\n",
    "          [\"\"],\n",
    "          [\"\"],\n",
    "          [\"\"]]\n",
    "\n",
    "R5Winners=[\"\", \"\"]\n",
    "\n",
    "Champion=[\"\"]"
   ]
  },
  {
   "cell_type": "code",
   "execution_count": 72,
   "metadata": {
    "collapsed": false
   },
   "outputs": [
    {
     "data": {
      "text/plain": [
       "''"
      ]
     },
     "execution_count": 72,
     "metadata": {},
     "output_type": "execute_result"
    }
   ],
   "source": [
    "R5Winners[1]"
   ]
  },
  {
   "cell_type": "code",
   "execution_count": 73,
   "metadata": {
    "collapsed": false
   },
   "outputs": [],
   "source": [
    "#Random number generator for first round of games (8 games x 4 conferences)\n",
    "Rand1 = np.random.randint(100, size=(4, 8))"
   ]
  },
  {
   "cell_type": "code",
   "execution_count": 74,
   "metadata": {
    "collapsed": false
   },
   "outputs": [
    {
     "data": {
      "text/plain": [
       "array([[39, 81, 62, 46, 82, 96, 65, 47],\n",
       "       [41, 22, 51, 92, 34, 13, 39, 97],\n",
       "       [71, 83, 87, 35, 64, 35, 13, 28],\n",
       "       [12, 13, 37, 90, 37, 65, 70, 55]])"
      ]
     },
     "execution_count": 74,
     "metadata": {},
     "output_type": "execute_result"
    }
   ],
   "source": [
    "Rand1      # Checking output of numbers"
   ]
  },
  {
   "cell_type": "code",
   "execution_count": 75,
   "metadata": {
    "collapsed": false
   },
   "outputs": [],
   "source": [
    "# Round 1 simulation\n",
    "for i in range(8):\n",
    "    for j in range(4):\n",
    "        if Rand1[j][i] > 49:\n",
    "            R1Winners[j][i] = R1teams[j][2*i]\n",
    "        else:\n",
    "            R1Winners[j][i] = R1teams[j][2*i+1]"
   ]
  },
  {
   "cell_type": "code",
   "execution_count": 76,
   "metadata": {
    "collapsed": false
   },
   "outputs": [
    {
     "data": {
      "text/plain": [
       "[['Villanova',\n",
       "  'Miami',\n",
       "  'Maryland',\n",
       "  'Colorado',\n",
       "  'Connecticut',\n",
       "  'Wichita State',\n",
       "  'Hawaii',\n",
       "  'Austin Peay'],\n",
       " ['Oklahoma',\n",
       "  'Duke',\n",
       "  'Baylor',\n",
       "  'Oregon State',\n",
       "  'VCU',\n",
       "  'Yale',\n",
       "  'Green Bay',\n",
       "  'Cal State Bakersfield'],\n",
       " ['North Carolina',\n",
       "  'West Virginia',\n",
       "  'Indiana',\n",
       "  'USC',\n",
       "  'Providence',\n",
       "  'Chattanooga',\n",
       "  'Stephen F Austin',\n",
       "  'Florida Gulf Coast'],\n",
       " ['Michigan State',\n",
       "  'Iowa State',\n",
       "  'Seton Hall',\n",
       "  'Dayton',\n",
       "  'Syracuse',\n",
       "  'Gonzaga',\n",
       "  'Iona',\n",
       "  'Middle Tennessee']]"
      ]
     },
     "execution_count": 76,
     "metadata": {},
     "output_type": "execute_result"
    }
   ],
   "source": [
    "# Check winners of Round 1\n",
    "R1Winners"
   ]
  },
  {
   "cell_type": "code",
   "execution_count": 77,
   "metadata": {
    "collapsed": true
   },
   "outputs": [],
   "source": [
    "Rand2 = np.random.randint(100, size=(4, 4))  #Random generator for second round (4 games x 4 conferences)"
   ]
  },
  {
   "cell_type": "code",
   "execution_count": 78,
   "metadata": {
    "collapsed": false
   },
   "outputs": [
    {
     "data": {
      "text/plain": [
       "array([[34, 69, 92, 95],\n",
       "       [12, 17,  4, 95],\n",
       "       [31, 89, 64, 31],\n",
       "       [67, 10, 49, 31]])"
      ]
     },
     "execution_count": 78,
     "metadata": {},
     "output_type": "execute_result"
    }
   ],
   "source": [
    "Rand2"
   ]
  },
  {
   "cell_type": "code",
   "execution_count": 79,
   "metadata": {
    "collapsed": true
   },
   "outputs": [],
   "source": [
    "# Round 2 simulation\n",
    "for i in range(4):\n",
    "    for j in range(4):\n",
    "        if Rand2[j][i] > 49:\n",
    "            R2Winners[j][i] = R1Winners[j][2*i]\n",
    "        else:\n",
    "            R2Winners[j][i] = R1Winners[j][2*i+1]"
   ]
  },
  {
   "cell_type": "code",
   "execution_count": 80,
   "metadata": {
    "collapsed": false
   },
   "outputs": [
    {
     "data": {
      "text/plain": [
       "[['Miami', 'Maryland', 'Connecticut', 'Hawaii'],\n",
       " ['Duke', 'Oregon State', 'Yale', 'Green Bay'],\n",
       " ['West Virginia', 'Indiana', 'Providence', 'Florida Gulf Coast'],\n",
       " ['Michigan State', 'Dayton', 'Gonzaga', 'Middle Tennessee']]"
      ]
     },
     "execution_count": 80,
     "metadata": {},
     "output_type": "execute_result"
    }
   ],
   "source": [
    "# Winners of Round 2\n",
    "R2Winners"
   ]
  },
  {
   "cell_type": "code",
   "execution_count": 81,
   "metadata": {
    "collapsed": true
   },
   "outputs": [],
   "source": [
    "Rand3 = np.random.randint(100, size=(4, 2))"
   ]
  },
  {
   "cell_type": "code",
   "execution_count": 82,
   "metadata": {
    "collapsed": false
   },
   "outputs": [
    {
     "data": {
      "text/plain": [
       "array([[52, 14],\n",
       "       [88, 84],\n",
       "       [75, 24],\n",
       "       [95, 91]])"
      ]
     },
     "execution_count": 82,
     "metadata": {},
     "output_type": "execute_result"
    }
   ],
   "source": [
    "Rand3"
   ]
  },
  {
   "cell_type": "code",
   "execution_count": 83,
   "metadata": {
    "collapsed": false,
    "scrolled": true
   },
   "outputs": [],
   "source": [
    "# Round 3 (Sweet 16) simulation \n",
    "\n",
    "for i in range(2):\n",
    "    for j in range(4):\n",
    "        if Rand3[j][i] > 49:\n",
    "            R3Winners[j][i] = R2Winners[j][2*i]\n",
    "        else:\n",
    "            R3Winners[j][i] = R2Winners[j][2*i+1]"
   ]
  },
  {
   "cell_type": "code",
   "execution_count": 84,
   "metadata": {
    "collapsed": false
   },
   "outputs": [
    {
     "data": {
      "text/plain": [
       "[['Miami', 'Hawaii'],\n",
       " ['Duke', 'Yale'],\n",
       " ['West Virginia', 'Florida Gulf Coast'],\n",
       " ['Michigan State', 'Gonzaga']]"
      ]
     },
     "execution_count": 84,
     "metadata": {},
     "output_type": "execute_result"
    }
   ],
   "source": [
    "R3Winners"
   ]
  },
  {
   "cell_type": "code",
   "execution_count": 85,
   "metadata": {
    "collapsed": true
   },
   "outputs": [],
   "source": [
    "Rand4 = np.random.randint(100, size=(4, 1))"
   ]
  },
  {
   "cell_type": "code",
   "execution_count": 86,
   "metadata": {
    "collapsed": false
   },
   "outputs": [
    {
     "data": {
      "text/plain": [
       "array([[70],\n",
       "       [63],\n",
       "       [77],\n",
       "       [48]])"
      ]
     },
     "execution_count": 86,
     "metadata": {},
     "output_type": "execute_result"
    }
   ],
   "source": [
    "Rand4"
   ]
  },
  {
   "cell_type": "code",
   "execution_count": 87,
   "metadata": {
    "collapsed": true
   },
   "outputs": [],
   "source": [
    "# Round 4 (Elite 8) simulation \n",
    "\n",
    "for i in range(1):\n",
    "    for j in range(4):\n",
    "        if Rand4[j][i] > 49:\n",
    "            R4Winners[j][i] = R3Winners[j][2*i]\n",
    "        else:\n",
    "            R4Winners[j][i] = R3Winners[j][2*i+1]"
   ]
  },
  {
   "cell_type": "code",
   "execution_count": 88,
   "metadata": {
    "collapsed": false
   },
   "outputs": [
    {
     "data": {
      "text/plain": [
       "[['Miami'], ['Duke'], ['West Virginia'], ['Gonzaga']]"
      ]
     },
     "execution_count": 88,
     "metadata": {},
     "output_type": "execute_result"
    }
   ],
   "source": [
    " R4Winners"
   ]
  },
  {
   "cell_type": "code",
   "execution_count": 89,
   "metadata": {
    "collapsed": false
   },
   "outputs": [],
   "source": [
    "Rand5 = np.random.randint(100, size=(2, 1))"
   ]
  },
  {
   "cell_type": "code",
   "execution_count": 90,
   "metadata": {
    "collapsed": false
   },
   "outputs": [
    {
     "data": {
      "text/plain": [
       "array([[85],\n",
       "       [24]])"
      ]
     },
     "execution_count": 90,
     "metadata": {},
     "output_type": "execute_result"
    }
   ],
   "source": [
    "Rand5"
   ]
  },
  {
   "cell_type": "code",
   "execution_count": 91,
   "metadata": {
    "collapsed": false
   },
   "outputs": [],
   "source": [
    "# Round 5 (Final 4) simulation \n",
    "\n",
    "for i in range(2):\n",
    "    if Rand5[i][0] > 49:\n",
    "        R5Winners[i] = R4Winners[2*i][0]\n",
    "    else:\n",
    "        R5Winners[i] = R4Winners[2*i+1][0]"
   ]
  },
  {
   "cell_type": "code",
   "execution_count": 92,
   "metadata": {
    "collapsed": false
   },
   "outputs": [
    {
     "data": {
      "text/plain": [
       "['Miami', 'Gonzaga']"
      ]
     },
     "execution_count": 92,
     "metadata": {},
     "output_type": "execute_result"
    }
   ],
   "source": [
    "R5Winners"
   ]
  },
  {
   "cell_type": "code",
   "execution_count": 93,
   "metadata": {
    "collapsed": false
   },
   "outputs": [],
   "source": [
    "Rand6 = np.random.randint(100, size=(1, 1))"
   ]
  },
  {
   "cell_type": "code",
   "execution_count": 94,
   "metadata": {
    "collapsed": false
   },
   "outputs": [
    {
     "data": {
      "text/plain": [
       "array([[41]])"
      ]
     },
     "execution_count": 94,
     "metadata": {},
     "output_type": "execute_result"
    }
   ],
   "source": [
    "Rand6"
   ]
  },
  {
   "cell_type": "code",
   "execution_count": 95,
   "metadata": {
    "collapsed": false
   },
   "outputs": [],
   "source": [
    "# Round 6 (Championship) simulation \n",
    "\n",
    "if Rand6[0][0] > 49:\n",
    "    Champion = R5Winners[0]\n",
    "else:\n",
    "    Champion = R5Winners[1]"
   ]
  },
  {
   "cell_type": "code",
   "execution_count": 96,
   "metadata": {
    "collapsed": false
   },
   "outputs": [
    {
     "data": {
      "text/plain": [
       "'Gonzaga'"
      ]
     },
     "execution_count": 96,
     "metadata": {},
     "output_type": "execute_result"
    }
   ],
   "source": [
    "Champion"
   ]
  },
  {
   "cell_type": "code",
   "execution_count": null,
   "metadata": {
    "collapsed": true
   },
   "outputs": [],
   "source": []
  }
 ],
 "metadata": {
  "kernelspec": {
   "display_name": "Python 3",
   "language": "python",
   "name": "python3"
  },
  "language_info": {
   "codemirror_mode": {
    "name": "ipython",
    "version": 3
   },
   "file_extension": ".py",
   "mimetype": "text/x-python",
   "name": "python",
   "nbconvert_exporter": "python",
   "pygments_lexer": "ipython3",
   "version": "3.5.1"
  }
 },
 "nbformat": 4,
 "nbformat_minor": 0
}
