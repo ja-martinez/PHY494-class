{
 "cells": [
  {
   "cell_type": "code",
   "execution_count": 1,
   "metadata": {
    "collapsed": false
   },
   "outputs": [],
   "source": [
    "import numpy as np\n",
    "\n",
    "#tuple array of South, West, East and Midwest Regionals respectively, listed in #1 - 16 seed order\n",
    "R1teams = ((\"Kansas\", \"Villanova\", \"Miami\", \"California\", \"Maryland\", \"Arizona\", \"Iowa\", \"Colorado\", \"Connecticut\", \"Temple\", \"Wichita State\", \"South Dakota State\", \"Hawaii\", \"Buffalo\", \"UNC Asheville\", \"Austin Peay\"),\n",
    "            (\"Oregon\", \"Oklahoma\", \"Texan A&M\", \"Duke\", \"Baylor\", \"Texas\", \"Oregon State\", \"Saint Joseph's\", \"Cincinnatti\", \"VCU\", \"Northern Iowa\", \"Yale\", \"UNC Wilmington\", \"Green Bay\", \"Cal State Bakersfield\", \"Holy Cross\"),\n",
    "            (\"North Carolina\", \"Xavier\", \"West Virginia\", \"Kentucky\", \"Indiana\", \"Notre Dame\", \"Wisconsin\", \"USC\", \"Providence\", \"Pittsburgh\", \"Michigan\", \"Chattanooga\", \"Stony Brook\", \"Stephen F Austin\", \"Weber State\", \"Florida Gulf Coast\"), \n",
    "            (\"Virginia\", \"Michigan State\", \"Utah\", \"Iowa State\", \"Purdue\", \"Seton Hall\", \"Dayton\", \"Texas Tech\", \"Butler\", \"Syracuse\", \"Gonzaga\", \"Ankansas-Little Rock\", \"Iona\", \"Fresno State\", \"Middle Tennessee\", \"Hampton\"))\n",
    "\n",
    "# blank placeholder for each round winners\n",
    "R1Winners=[[\"\", \"\", \"\", \"\", \"\", \"\", \"\", \"\"],\n",
    "          [\"\", \"\", \"\", \"\", \"\", \"\", \"\", \"\"],\n",
    "          [\"\", \"\", \"\", \"\", \"\", \"\", \"\", \"\"],\n",
    "          [\"\", \"\", \"\", \"\", \"\", \"\", \"\", \"\"]]\n",
    "\n",
    "R2Winners=[[\"\", \"\", \"\", \"\"],\n",
    "          [\"\", \"\", \"\", \"\"],\n",
    "          [\"\", \"\", \"\", \"\"],\n",
    "          [\"\", \"\", \"\", \"\"]]\n",
    "\n",
    "R3Winners=[[\"\", \"\"],\n",
    "          [\"\", \"\"],\n",
    "          [\"\", \"\"],\n",
    "          [\"\", \"\"]]\n",
    "\n",
    "R4Winners=[[\"\"],\n",
    "          [\"\"],\n",
    "          [\"\"],\n",
    "          [\"\"]]\n",
    "\n",
    "R5Winners=[\"\", \"\"]\n",
    "\n",
    "Champion=[\"\"]\n",
    "\n",
    "#Random number generator for first round of games (8 games x 4 conferences)\n",
    "Rand1 = np.random.randint(100, size=(4, 8))\n",
    "\n",
    "# Round 1 simulation\n",
    "for i in range(8):\n",
    "    for j in range(4):\n",
    "        if Rand1[j][i] > 49:\n",
    "            R1Winners[j][i] = R1teams[j][2*i]\n",
    "        else:\n",
    "            R1Winners[j][i] = R1teams[j][2*i+1]\n",
    "\n",
    "Rand2 = np.random.randint(100, size=(4, 4))  #Random generator for second round (4 games x 4 conferences)\n",
    "\n",
    "# Round 2 simulation\n",
    "for i in range(4):\n",
    "    for j in range(4):\n",
    "        if Rand2[j][i] > 49:\n",
    "            R2Winners[j][i] = R1Winners[j][2*i]\n",
    "        else:\n",
    "            R2Winners[j][i] = R1Winners[j][2*i+1]\n",
    "\n",
    "Rand3 = np.random.randint(100, size=(4, 2))\n",
    "\n",
    "# Round 3 (Sweet 16) simulation \n",
    "for i in range(2):\n",
    "    for j in range(4):\n",
    "        if Rand3[j][i] > 49:\n",
    "            R3Winners[j][i] = R2Winners[j][2*i]\n",
    "        else:\n",
    "            R3Winners[j][i] = R2Winners[j][2*i+1]\n",
    "\n",
    "Rand4 = np.random.randint(100, size=(4, 1))\n",
    "\n",
    "# Round 4 (Elite 8) simulation \n",
    "for i in range(1):\n",
    "    for j in range(4):\n",
    "        if Rand4[j][i] > 49:\n",
    "            R4Winners[j][i] = R3Winners[j][2*i]\n",
    "        else:\n",
    "            R4Winners[j][i] = R3Winners[j][2*i+1]\n",
    "\n",
    "Rand5 = np.random.randint(100, size=(2, 1))\n",
    "\n",
    "# Round 5 (Final 4) simulation \n",
    "for i in range(2):\n",
    "    if Rand5[i][0] > 49:\n",
    "        R5Winners[i] = R4Winners[2*i][0]\n",
    "    else:\n",
    "        R5Winners[i] = R4Winners[2*i+1][0]\n",
    "            \n",
    "Rand6 = np.random.randint(100, size=(1, 1))\n",
    "\n",
    "# Round 6 (Championship) simulation \n",
    "\n",
    "if Rand6[0][0] > 49:\n",
    "    Champion = R5Winners[0]\n",
    "else:\n",
    "    Champion = R5Winners[1]\n",
    "\n",
    "\n"
   ]
  },
  {
   "cell_type": "code",
   "execution_count": 2,
   "metadata": {
    "collapsed": false
   },
   "outputs": [
    {
     "data": {
      "text/plain": [
       "[['Kansas',\n",
       "  'Miami',\n",
       "  'Arizona',\n",
       "  'Colorado',\n",
       "  'Temple',\n",
       "  'South Dakota State',\n",
       "  'Buffalo',\n",
       "  'UNC Asheville'],\n",
       " ['Oklahoma',\n",
       "  'Texan A&M',\n",
       "  'Texas',\n",
       "  'Oregon State',\n",
       "  'VCU',\n",
       "  'Yale',\n",
       "  'Green Bay',\n",
       "  'Cal State Bakersfield'],\n",
       " ['Xavier',\n",
       "  'Kentucky',\n",
       "  'Indiana',\n",
       "  'Wisconsin',\n",
       "  'Pittsburgh',\n",
       "  'Michigan',\n",
       "  'Stony Brook',\n",
       "  'Florida Gulf Coast'],\n",
       " ['Virginia',\n",
       "  'Utah',\n",
       "  'Seton Hall',\n",
       "  'Dayton',\n",
       "  'Syracuse',\n",
       "  'Gonzaga',\n",
       "  'Fresno State',\n",
       "  'Middle Tennessee']]"
      ]
     },
     "execution_count": 2,
     "metadata": {},
     "output_type": "execute_result"
    }
   ],
   "source": [
    "# Check winners of Round 1\n",
    "R1Winners"
   ]
  },
  {
   "cell_type": "code",
   "execution_count": 3,
   "metadata": {
    "collapsed": false
   },
   "outputs": [
    {
     "data": {
      "text/plain": [
       "[['Kansas', 'Arizona', 'Temple', 'UNC Asheville'],\n",
       " ['Oklahoma', 'Texas', 'Yale', 'Green Bay'],\n",
       " ['Kentucky', 'Wisconsin', 'Pittsburgh', 'Stony Brook'],\n",
       " ['Virginia', 'Seton Hall', 'Gonzaga', 'Fresno State']]"
      ]
     },
     "execution_count": 3,
     "metadata": {},
     "output_type": "execute_result"
    }
   ],
   "source": [
    "# Winners of Round 2\n",
    "R2Winners"
   ]
  },
  {
   "cell_type": "code",
   "execution_count": 4,
   "metadata": {
    "collapsed": false
   },
   "outputs": [
    {
     "data": {
      "text/plain": [
       "[['Arizona', 'Temple'],\n",
       " ['Texas', 'Yale'],\n",
       " ['Kentucky', 'Pittsburgh'],\n",
       " ['Virginia', 'Gonzaga']]"
      ]
     },
     "execution_count": 4,
     "metadata": {},
     "output_type": "execute_result"
    }
   ],
   "source": [
    "R3Winners"
   ]
  },
  {
   "cell_type": "code",
   "execution_count": 5,
   "metadata": {
    "collapsed": false
   },
   "outputs": [
    {
     "data": {
      "text/plain": [
       "[['Arizona'], ['Yale'], ['Pittsburgh'], ['Gonzaga']]"
      ]
     },
     "execution_count": 5,
     "metadata": {},
     "output_type": "execute_result"
    }
   ],
   "source": [
    " R4Winners"
   ]
  },
  {
   "cell_type": "code",
   "execution_count": 6,
   "metadata": {
    "collapsed": false
   },
   "outputs": [
    {
     "data": {
      "text/plain": [
       "['Yale', 'Pittsburgh']"
      ]
     },
     "execution_count": 6,
     "metadata": {},
     "output_type": "execute_result"
    }
   ],
   "source": [
    "R5Winners"
   ]
  },
  {
   "cell_type": "code",
   "execution_count": 8,
   "metadata": {
    "collapsed": false
   },
   "outputs": [
    {
     "data": {
      "text/plain": [
       "'Pittsburgh'"
      ]
     },
     "execution_count": 8,
     "metadata": {},
     "output_type": "execute_result"
    }
   ],
   "source": [
    "Champion"
   ]
  },
  {
   "cell_type": "code",
   "execution_count": null,
   "metadata": {
    "collapsed": true
   },
   "outputs": [],
   "source": []
  }
 ],
 "metadata": {
  "kernelspec": {
   "display_name": "Python 3",
   "language": "python",
   "name": "python3"
  },
  "language_info": {
   "codemirror_mode": {
    "name": "ipython",
    "version": 3
   },
   "file_extension": ".py",
   "mimetype": "text/x-python",
   "name": "python",
   "nbconvert_exporter": "python",
   "pygments_lexer": "ipython3",
   "version": "3.5.1"
  }
 },
 "nbformat": 4,
 "nbformat_minor": 0
}
