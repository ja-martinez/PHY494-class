{
 "cells": [
  {
   "cell_type": "code",
   "execution_count": null,
   "metadata": {
    "collapsed": true
   },
   "outputs": [],
   "source": [
    "# This model is set to pick winners with 50/50 odds"
   ]
  },
  {
   "cell_type": "code",
   "execution_count": 1,
   "metadata": {
    "collapsed": true
   },
   "outputs": [],
   "source": [
    "import numpy as np"
   ]
  },
  {
   "cell_type": "code",
   "execution_count": 2,
   "metadata": {
    "collapsed": true
   },
   "outputs": [],
   "source": [
    "# Tuple Array of South, West, East and Midwest Regionals respectively, listed in the following seed ranking order (to match round 1 game matchup order) #1, 16, 8, 9, 5, 12, 4, 13, 6, 11, 3, 14, 7, 10, 2, 15\n",
    "R1teams = ((\"Kansas\", \"Austin Peay\", \"Colorado\", \"Connecticut\", \"Maryland\", \"South Dakota State\", \"California\", \"Hawaii\", \"Arizona\", \"Wichita State\", \"Miami\", \"Buffalo\", \"Iowa\", \"Temple\", \"Villanova\", \"UNC Asheville\"),\n",
    "            (\"Oregon\", \"Holy Cross\", \"Saint Joseph's\", \"Cincinnatti\", \"Baylor\", \"Yale\", \"Duke\", \"UNC Wilmington\", \"Texas\", \"Northern Iowa\", \"Texan A&M\", \"Green Bay\", \"Oregon State\", \"VCU\", \"Oklahoma\", \"Cal State Bakersfield\"),\n",
    "            (\"North Carolina\", \"Florida Gulf Coast\", \"USC\", \"Providence\", \"Indiana\", \"Chattanooga\", \"Kentucky\", \"Stony Brook\", \"Notre Dame\", \"Michigan\", \"West Virginia\", \"Stephen F Austin\", \"Wisconsin\", \"Pittsburgh\", \"Xavier\", \"Weber State\"), \n",
    "            (\"Virginia\", \"Hampton\", \"Texas Tech\", \"Butler\", \"Purdue\", \"Ankansas-Little Rock\", \"Iowa State\", \"Iona\", \"Seton Hall\", \"Gonzaga\", \"Utah\", \"Fresno State\", \"Dayton\", \"Syracuse\", \"Michigan State\", \"Middle Tennessee\"))"
   ]
  },
  {
   "cell_type": "code",
   "execution_count": 3,
   "metadata": {
    "collapsed": true
   },
   "outputs": [],
   "source": [
    "Champions = []"
   ]
  },
  {
   "cell_type": "code",
   "execution_count": 19,
   "metadata": {
    "collapsed": false
   },
   "outputs": [],
   "source": [
    "for i in range(100000):\n",
    "\n",
    "    # blank placeholder for each round winners\n",
    "    R1Winners=[[\"\", \"\", \"\", \"\", \"\", \"\", \"\", \"\"],\n",
    "              [\"\", \"\", \"\", \"\", \"\", \"\", \"\", \"\"],\n",
    "              [\"\", \"\", \"\", \"\", \"\", \"\", \"\", \"\"],\n",
    "              [\"\", \"\", \"\", \"\", \"\", \"\", \"\", \"\"]]\n",
    "\n",
    "    R2Winners=[[\"\", \"\", \"\", \"\"],\n",
    "              [\"\", \"\", \"\", \"\"],\n",
    "              [\"\", \"\", \"\", \"\"],\n",
    "              [\"\", \"\", \"\", \"\"]]\n",
    "\n",
    "    R3Winners=[[\"\", \"\"],\n",
    "              [\"\", \"\"],\n",
    "              [\"\", \"\"],\n",
    "              [\"\", \"\"]]\n",
    "\n",
    "    R4Winners=[[\"\"],\n",
    "              [\"\"],\n",
    "              [\"\"],\n",
    "              [\"\"]]\n",
    "\n",
    "    R5Winners=[\"\", \"\"]\n",
    "\n",
    "    Champion=[\"\"]\n",
    "\n",
    "    #Random number generator for first round of games (8 games x 4 conferences)\n",
    "    Rand1 = np.random.randint(124, size=(4, 8))\n",
    "\n",
    "    # Round 1 simulation\n",
    "    for i in range(8):\n",
    "        for j in range(4):\n",
    "            if Rand1[j][i]+1 > 49:\n",
    "                R1Winners[j][i] = R1teams[j][2*i]\n",
    "            else:\n",
    "                R1Winners[j][i] = R1teams[j][2*i+1]\n",
    "\n",
    "    Rand2 = np.random.randint(100, size=(4, 4))  #Random generator for second round (4 games x 4 conferences)\n",
    "\n",
    "    # Round 2 simulation\n",
    "    for i in range(4):\n",
    "        for j in range(4):\n",
    "            if Rand2[j][i] > 49:\n",
    "                R2Winners[j][i] = R1Winners[j][2*i]\n",
    "            else:\n",
    "                R2Winners[j][i] = R1Winners[j][2*i+1]\n",
    "\n",
    "    Rand3 = np.random.randint(100, size=(4, 2))\n",
    "\n",
    "    # Round 3 (Sweet 16) simulation \n",
    "    for i in range(2):\n",
    "        for j in range(4):\n",
    "            if Rand3[j][i] > 49:\n",
    "                R3Winners[j][i] = R2Winners[j][2*i]\n",
    "            else:\n",
    "                R3Winners[j][i] = R2Winners[j][2*i+1]\n",
    "\n",
    "    Rand4 = np.random.randint(100, size=(4, 1))\n",
    "\n",
    "    # Round 4 (Elite 8) simulation \n",
    "    for i in range(1):\n",
    "        for j in range(4):\n",
    "            if Rand4[j][i] > 49:\n",
    "                R4Winners[j][i] = R3Winners[j][2*i]\n",
    "            else:\n",
    "                R4Winners[j][i] = R3Winners[j][2*i+1]\n",
    "\n",
    "    Rand5 = np.random.randint(100, size=(2, 1))\n",
    "\n",
    "    # Round 5 (Final 4) simulation \n",
    "    for i in range(2):\n",
    "        if Rand5[i][0] > 49:\n",
    "            R5Winners[i] = R4Winners[2*i][0]\n",
    "        else:\n",
    "            R5Winners[i] = R4Winners[2*i+1][0]\n",
    "\n",
    "    Rand6 = np.random.randint(100, size=(1, 1))\n",
    "\n",
    "    # Round 6 (Championship) simulation \n",
    "\n",
    "    if Rand6[0][0] > 49:\n",
    "        Champion = R5Winners[0]\n",
    "    else:\n",
    "        Champion = R5Winners[1]\n",
    "    \n",
    "    Champions.append(Champion)\n"
   ]
  },
  {
   "cell_type": "code",
   "execution_count": 5,
   "metadata": {
    "collapsed": false
   },
   "outputs": [],
   "source": [
    "# Champions"
   ]
  },
  {
   "cell_type": "code",
   "execution_count": 12,
   "metadata": {
    "collapsed": false
   },
   "outputs": [
    {
     "data": {
      "text/plain": [
       "20000"
      ]
     },
     "execution_count": 12,
     "metadata": {},
     "output_type": "execute_result"
    }
   ],
   "source": [
    "len(Champions)"
   ]
  },
  {
   "cell_type": "code",
   "execution_count": 13,
   "metadata": {
    "collapsed": true
   },
   "outputs": [],
   "source": [
    "from collections import Counter"
   ]
  },
  {
   "cell_type": "code",
   "execution_count": 20,
   "metadata": {
    "collapsed": false
   },
   "outputs": [
    {
     "data": {
      "text/plain": [
       "[('Kentucky', 2738),\n",
       " ('Purdue', 2723),\n",
       " ('Texas', 2718),\n",
       " ('California', 2708),\n",
       " ('Maryland', 2702),\n",
       " ('Dayton', 2696),\n",
       " ('Iowa', 2685),\n",
       " ('Arizona', 2680),\n",
       " ('Oklahoma', 2672),\n",
       " ('Xavier', 2666)]"
      ]
     },
     "execution_count": 20,
     "metadata": {},
     "output_type": "execute_result"
    }
   ],
   "source": [
    "#List most recurring Champions in list\n",
    "\n",
    "Counter(Champions).most_common(10)"
   ]
  },
  {
   "cell_type": "code",
   "execution_count": 21,
   "metadata": {
    "collapsed": false
   },
   "outputs": [
    {
     "data": {
      "text/plain": [
       "2631"
      ]
     },
     "execution_count": 21,
     "metadata": {},
     "output_type": "execute_result"
    }
   ],
   "source": [
    "# Counts number of time the real world 2016 NCAA champion appears in our champions list\n",
    "\n",
    "Champions.count(\"Villanova\")"
   ]
  },
  {
   "cell_type": "code",
   "execution_count": 22,
   "metadata": {
    "collapsed": false
   },
   "outputs": [
    {
     "name": "stdout",
     "output_type": "stream",
     "text": [
      "Percentage of cases Villanova is champion: 1.8792857142857142 %\n",
      "Odds Villanova wins championship: 53.2117065754466 to 1\n"
     ]
    }
   ],
   "source": [
    "print(\"Percentage of cases Villanova is champion:\", Champions.count(\"Villanova\") / len(Champions)   * 100, \"%\")\n",
    "print(\"Odds Villanova wins championship:\", len(Champions) / Champions.count(\"Villanova\"), \"to 1\")"
   ]
  },
  {
   "cell_type": "code",
   "execution_count": null,
   "metadata": {
    "collapsed": true
   },
   "outputs": [],
   "source": []
  }
 ],
 "metadata": {
  "kernelspec": {
   "display_name": "Python 3",
   "language": "python",
   "name": "python3"
  },
  "language_info": {
   "codemirror_mode": {
    "name": "ipython",
    "version": 3
   },
   "file_extension": ".py",
   "mimetype": "text/x-python",
   "name": "python",
   "nbconvert_exporter": "python",
   "pygments_lexer": "ipython3",
   "version": "3.5.1"
  }
 },
 "nbformat": 4,
 "nbformat_minor": 0
}
